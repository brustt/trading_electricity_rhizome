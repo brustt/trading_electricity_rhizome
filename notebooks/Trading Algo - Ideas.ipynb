{
 "cells": [
  {
   "cell_type": "markdown",
   "metadata": {},
   "source": [
    "## Trading algo"
   ]
  },
  {
   "cell_type": "markdown",
   "metadata": {},
   "source": [
    "#### Market presentation"
   ]
  },
  {
   "cell_type": "markdown",
   "metadata": {},
   "source": [
    "https://towardsdatascience.com/forecasting-electricity-prices-with-artificial-neuronal-networks-part-2-424cda162c7f"
   ]
  },
  {
   "cell_type": "markdown",
   "metadata": {},
   "source": [
    "#### Startegy intraday vs day ahead (presentation)"
   ]
  },
  {
   "cell_type": "markdown",
   "metadata": {},
   "source": [
    "https://github.com/ekapope/EPEX-machine-learning"
   ]
  },
  {
   "cell_type": "markdown",
   "metadata": {},
   "source": [
    "#### Master thesis electricity trading simulation\n",
    "* for a power plant, strategy to keep producing or stay off depending of all costs and electricity price forecasted"
   ]
  },
  {
   "cell_type": "markdown",
   "metadata": {},
   "source": [
    "https://www.diva-portal.org/smash/get/diva2:1381360/FULLTEXT01.pdf"
   ]
  },
  {
   "cell_type": "markdown",
   "metadata": {},
   "source": [
    "### Book\n",
    "\n",
    "* https://github.com/stefan-jansen/machine-learning-for-trading"
   ]
  },
  {
   "cell_type": "code",
   "execution_count": null,
   "metadata": {},
   "outputs": [],
   "source": []
  },
  {
   "cell_type": "code",
   "execution_count": null,
   "metadata": {},
   "outputs": [],
   "source": []
  },
  {
   "cell_type": "markdown",
   "metadata": {},
   "source": [
    "### Framework"
   ]
  },
  {
   "cell_type": "markdown",
   "metadata": {},
   "source": [
    "### PyTrade\n",
    "* permet de definir des strategy custom\n",
    "* Pas très clair, assez complexe\n",
    "\n",
    "https://gbeced.github.io/pyalgotrade/docs/v0.20/html/index.html\n",
    "example : https://github.com/PyPSA/PyPSA/blob/master/examples/simple-electricity-market-examples.py"
   ]
  },
  {
   "cell_type": "markdown",
   "metadata": {},
   "source": [
    "### A la mano"
   ]
  },
  {
   "cell_type": "markdown",
   "metadata": {},
   "source": [
    "* gestion des paquets : tox\n",
    "* configuration : hydra\n",
    "* trouver un template directory : cookie cutter\n",
    "* design pattern for implementation"
   ]
  },
  {
   "cell_type": "markdown",
   "metadata": {},
   "source": [
    "## RL"
   ]
  },
  {
   "cell_type": "markdown",
   "metadata": {},
   "source": [
    "* see bookmark on raindrop\n",
    "* https://www.analyticsvidhya.com/blog/2021/01/bear-run-or-bull-run-can-reinforcement-learning-help-in-automated-trading/"
   ]
  },
  {
   "cell_type": "code",
   "execution_count": null,
   "metadata": {},
   "outputs": [],
   "source": []
  }
 ],
 "metadata": {
  "kernelspec": {
   "display_name": "Python 3 (ipykernel)",
   "language": "python",
   "name": "python3"
  },
  "language_info": {
   "codemirror_mode": {
    "name": "ipython",
    "version": 3
   },
   "file_extension": ".py",
   "mimetype": "text/x-python",
   "name": "python",
   "nbconvert_exporter": "python",
   "pygments_lexer": "ipython3",
   "version": "3.9.12"
  }
 },
 "nbformat": 4,
 "nbformat_minor": 4
}
