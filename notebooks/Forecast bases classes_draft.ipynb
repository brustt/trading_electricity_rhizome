{
 "cells": [
  {
   "cell_type": "code",
   "execution_count": 1,
   "id": "f0bfac36",
   "metadata": {},
   "outputs": [],
   "source": [
    "import numpy as np\n",
    "import pandas as pd\n",
    "import matplotlib.pyplot as plt\n",
    "from sklearn.metrics import mean_squared_error\n",
    "from statsmodels.tsa.arima.model import ARIMA\n",
    "from sklearn.metrics import mean_absolute_error\n",
    "\n",
    "import tensorflow as tf\n",
    "keras = tf.keras\n",
    "from datetime import datetime"
   ]
  },
  {
   "cell_type": "code",
   "execution_count": 2,
   "id": "49257d15",
   "metadata": {},
   "outputs": [],
   "source": [
    "from typing import List"
   ]
  },
  {
   "cell_type": "code",
   "execution_count": 3,
   "id": "bd64701e",
   "metadata": {},
   "outputs": [],
   "source": [
    "import os\n",
    "import glob"
   ]
  },
  {
   "cell_type": "code",
   "execution_count": 4,
   "id": "cf47655d",
   "metadata": {},
   "outputs": [],
   "source": [
    "from src.io.load import DataLoader"
   ]
  },
  {
   "cell_type": "code",
   "execution_count": 5,
   "id": "b9d502d2",
   "metadata": {},
   "outputs": [],
   "source": [
    "from abc import ABC, abstractmethod"
   ]
  },
  {
   "cell_type": "code",
   "execution_count": 6,
   "id": "13661e8f",
   "metadata": {},
   "outputs": [],
   "source": [
    "PATH_DATA_PROCESSED = \"../data/processed/\""
   ]
  },
  {
   "cell_type": "code",
   "execution_count": 7,
   "id": "2b4a36c6",
   "metadata": {},
   "outputs": [],
   "source": [
    "dict_data_name = {\n",
    "    \"germany\": \"BZN-DE-LU/\"\n",
    "}\n",
    "class DataLoader:\n",
    "    def __init__(self):\n",
    "        pass\n",
    "\n",
    "    def load_dataset(self, name, start_date=None, end_date=None):\n",
    "        dir_name= os.path.join(PATH_DATA_PROCESSED, dict_data_name[name])\n",
    "        return self._load_all_files(dir_name)\n",
    "\n",
    "    def _load_all_files(self, dir_name):\n",
    "        data_list = []\n",
    "        for file in glob.glob(dir_name+\"*.xlsx\"):\n",
    "            data_list.append(pd.read_excel(file))\n",
    "\n",
    "        return pd.concat(data_list).reset_index(drop=True)"
   ]
  },
  {
   "cell_type": "code",
   "execution_count": 8,
   "id": "126f32ff",
   "metadata": {},
   "outputs": [],
   "source": [
    "builder = DataLoader()\n",
    "\n",
    "data = builder.load_dataset(\"germany\", start_date=None, end_date=None)"
   ]
  },
  {
   "cell_type": "code",
   "execution_count": 9,
   "id": "89aeb580",
   "metadata": {},
   "outputs": [],
   "source": [
    "class ProcessData:\n",
    "    def __init__(self, df):\n",
    "        self.df = df\n",
    "        \n",
    "    def run_preprocess(self):\n",
    "        return self.format_data()\n",
    "    \n",
    "    def format_data(self):\n",
    "        self.df['hour'] = self.df['Hours'].apply(lambda x: x[:2])\n",
    "        self.df = self.df.drop('Hours', axis=1)\n",
    "        self.df['time'] = pd.to_datetime(self.df['date']+self.df['hour'], format=\"%d/%m/%Y%H\")\n",
    "        self.df = self.df.set_index('time').sort_index()\n",
    "        return self.df['value'].resample(\"H\").last().sort_index()"
   ]
  },
  {
   "cell_type": "code",
   "execution_count": 10,
   "id": "33aab51c",
   "metadata": {},
   "outputs": [],
   "source": [
    "processor = ProcessData(data)\n",
    "prices = processor.run_preprocess()"
   ]
  },
  {
   "cell_type": "code",
   "execution_count": 11,
   "id": "ff107685",
   "metadata": {},
   "outputs": [],
   "source": [
    "prices = prices.to_frame()"
   ]
  },
  {
   "cell_type": "code",
   "execution_count": 12,
   "id": "acddacf2",
   "metadata": {},
   "outputs": [],
   "source": [
    "top_p = prices.head(10)"
   ]
  },
  {
   "cell_type": "markdown",
   "id": "98fa507d",
   "metadata": {},
   "source": [
    "## Factory"
   ]
  },
  {
   "cell_type": "code",
   "execution_count": 13,
   "id": "34f11def",
   "metadata": {},
   "outputs": [],
   "source": [
    "class ModelForecastFactory:\n",
    "\n",
    "    def get_model(self, **kwargs):\n",
    "        name = kwargs[\"name\"]\n",
    "        choice_model = {\n",
    "            \"arima\":{\n",
    "                \"builder\":ARIMAModel,\n",
    "                \"params\":[\n",
    "                    \"order\",\n",
    "                    \"seasona_order\",\n",
    "                ]\n",
    "            }\n",
    "        }\n",
    "        params = {k:v for k,v in kwargs.items() if k in choice_model[name][\"params\"]}\n",
    "        return choice_model[name][\"builder\"](**params)"
   ]
  },
  {
   "cell_type": "markdown",
   "id": "7e30053c",
   "metadata": {},
   "source": [
    "* abstract factory"
   ]
  },
  {
   "cell_type": "code",
   "execution_count": 12,
   "id": "67341f32",
   "metadata": {},
   "outputs": [],
   "source": [
    "class SamplerSetForecast:\n",
    "    def __init__(self, \n",
    "                 df: pd.DataFrame, \n",
    "                 prop: float = 0.2):\n",
    "        self.df = df\n",
    "        self.x_train, self.x_test = self.init_train_test_set(prop)\n",
    "    \n",
    "    def init_train_test_set(self, prop):\n",
    "        \"\"\"\n",
    "        dates as df indices\n",
    "        \"\"\"\n",
    "        self.split_idx = int((1-prop)*len(self.df))\n",
    "        return self.split_train_test_set()\n",
    "    \n",
    "    def split_train_test_set(self):\n",
    "        train_set, test_set = self.df[:self.split_idx], self.df[self.split_idx:]\n",
    "        return train_set, test_set\n",
    "    \n",
    "    def resample_train_test_set(self, n_frames):\n",
    "        self.split_idx +=n_frames\n",
    "        return self.split_train_test_set()"
   ]
  },
  {
   "cell_type": "code",
   "execution_count": 13,
   "id": "6793f3f1",
   "metadata": {},
   "outputs": [],
   "source": [
    "sampler = SamplerSetForecast(prices)"
   ]
  },
  {
   "cell_type": "code",
   "execution_count": 14,
   "id": "134d87ae",
   "metadata": {},
   "outputs": [
    {
     "data": {
      "text/plain": [
       "(5261,)"
      ]
     },
     "execution_count": 14,
     "metadata": {},
     "output_type": "execute_result"
    }
   ],
   "source": [
    "sampler.x_test.shape"
   ]
  },
  {
   "cell_type": "code",
   "execution_count": 15,
   "id": "0227c9a9",
   "metadata": {},
   "outputs": [
    {
     "data": {
      "text/plain": [
       "(21043,)"
      ]
     },
     "execution_count": 15,
     "metadata": {},
     "output_type": "execute_result"
    }
   ],
   "source": [
    "sampler.x_train.shape"
   ]
  },
  {
   "cell_type": "code",
   "execution_count": 18,
   "id": "a77e4073",
   "metadata": {},
   "outputs": [],
   "source": [
    "class ForecastModel(ABC):\n",
    "        \n",
    "    @abstractmethod\n",
    "    def forecast(self, n_frames):\n",
    "        pass\n",
    "    \n",
    "    @abstractmethod\n",
    "    def train_model(self, x_train):\n",
    "        pass\n",
    "    \n",
    "    def format_prediction(self, x_test: pd.Series, predictions: List):\n",
    "        return pd.Series(predictions, index=x_test.index)"
   ]
  },
  {
   "cell_type": "code",
   "execution_count": 20,
   "id": "e3247aa3",
   "metadata": {},
   "outputs": [],
   "source": [
    "from lightgbm import LGBMRegressor"
   ]
  },
  {
   "cell_type": "code",
   "execution_count": 21,
   "id": "f41d68b6",
   "metadata": {},
   "outputs": [],
   "source": [
    "class LGBMForecast(ForecastModel):\n",
    "    def __init__(self, **params):\n",
    "        self.params = params if params else []\n",
    "        self.model = (\n",
    "            LGBMRegressor(self.params) \n",
    "            if self.params else LGBMRegressor()\n",
    "        )\n",
    "    def init_\n",
    "\n",
    "    def forecast(self, n_frames, x_test_window):\n",
    "        x_input = x_test_window.iloc[0].values\n",
    "        pred_day = []\n",
    "    \n",
    "        for _ in range(0, n_frames):\n",
    "            if _ !=0:\n",
    "                lags_features = [_ for _ in x_test.columns if _.startswith('t_')]\n",
    "                other_columns = [_ for _ in x_test.columns if _ not in lags_features]\n",
    "\n",
    "                tmp_lags = x_test[lags_features].iloc[n+_].values\n",
    "                tmp_static = x_test[other_columns].iloc[n+_].values\n",
    "\n",
    "                # we replace past day prices with forecasted ones\n",
    "                tmp_lags[:_] = pred_day[::-1][:_]\n",
    "\n",
    "                x_input = np.concatenate((tmp_lags, tmp_static), axis=0)\n",
    "                \n",
    "            last_pred = lgbm.predict(x_input.reshape(1, -1))\n",
    "\n",
    "            pred_day.append(last_pred[0])\n",
    "        \n",
    "        return pd.Series(pred_day, index=x_test_window.index)\n",
    "        \n",
    "    def train_model(self, x_train, y_train):\n",
    "        self.model.fit(x_train, y_train)"
   ]
  },
  {
   "cell_type": "code",
   "execution_count": null,
   "id": "65fd3fb1",
   "metadata": {},
   "outputs": [],
   "source": []
  },
  {
   "cell_type": "markdown",
   "id": "bb324102",
   "metadata": {},
   "source": [
    "## Utils"
   ]
  },
  {
   "cell_type": "code",
   "execution_count": 14,
   "id": "9f3bc96b",
   "metadata": {},
   "outputs": [],
   "source": [
    "from typing import Dict"
   ]
  },
  {
   "cell_type": "code",
   "execution_count": 15,
   "id": "1c1122f2",
   "metadata": {},
   "outputs": [],
   "source": [
    "class Scaler:\n",
    "    def __init__(self):\n",
    "        pass\n",
    "    "
   ]
  },
  {
   "cell_type": "code",
   "execution_count": 16,
   "id": "e5c09373",
   "metadata": {},
   "outputs": [],
   "source": [
    "class ProcessTimeSeries:\n",
    "    def __init__(self):\n",
    "        pass\n",
    "    def differential_signal(self, df):\n",
    "        pass"
   ]
  },
  {
   "cell_type": "code",
   "execution_count": 19,
   "id": "2a7c8d71",
   "metadata": {},
   "outputs": [],
   "source": [
    "class ARIMAModel(ForecastModel):\n",
    "    def __init__(self,\n",
    "                 order:Dict[str, int],\n",
    "                seasonal_order:float = None):\n",
    "        \n",
    "        self.order = order\n",
    "        self.seasonal_order = seasonal_order\n",
    "        \n",
    "    def forecast(self, n_frames):\n",
    "        return self.model.forecast(steps=n_frames)\n",
    "    \n",
    "    def train_model(self, x_train):\n",
    "        self.model = ARIMA(\n",
    "            endog=x_train, \n",
    "            order=(self.order[\"p\"], self.order[\"d\"], self.order[\"q\"]), \n",
    "            freq='H', \n",
    "            seasonal_order=self.seasonal_order).fit()"
   ]
  },
  {
   "cell_type": "code",
   "execution_count": 34,
   "id": "4a29787e",
   "metadata": {},
   "outputs": [],
   "source": [
    "class ForecastRunner:\n",
    "    def __init__(self,\n",
    "                model: ForecastModel,\n",
    "                df,\n",
    "                n_frames: int):\n",
    "        self.model = model\n",
    "        self.df = df\n",
    "        self.sampler = None\n",
    "        self.pred_prices = None\n",
    "    \n",
    "    def init_sampler(self):\n",
    "        return SamplerSetForecast(self.df)\n",
    "    \n",
    "    def run_forecast(self, n_frames: int):\n",
    "        return self.model.forecast(n_frames)\n",
    "    \n",
    "    def run_training(self, x_train):\n",
    "        self.model.train_model(x_train)\n",
    "        \n",
    "    def run_sequential_window(self, n_frames, n_periods):\n",
    "        pred_list: List[pd.Series] = []\n",
    "        self.sampler = self.init_sampler()\n",
    "        for idx in range(n_periods*n_frames):\n",
    "            if idx % n_frames == 0:\n",
    "                self.sampler.resample_train_test_set(n_frames)\n",
    "                self.run_training(self.sampler.x_train)\n",
    "                pred_list.append(self.run_forecast(n_frames))\n",
    "                \n",
    "        return pd.concat(pred_list, axis=0)"
   ]
  },
  {
   "cell_type": "markdown",
   "id": "e64a6ac3",
   "metadata": {},
   "source": [
    "## Runner"
   ]
  },
  {
   "cell_type": "code",
   "execution_count": 22,
   "id": "325bb02f",
   "metadata": {},
   "outputs": [],
   "source": [
    "builder = DataLoader()\n",
    "data = builder.load_dataset(\"germany\", start_date=None, end_date=None)\n",
    "\n",
    "processor = ProcessData(data)\n",
    "prices = processor.run_preprocess()\n",
    "\n",
    "params = {\n",
    "    \"name\":\"arima\",\n",
    "    \"order\":dict(p=24, d=1, q=0),\n",
    "    \"seasonal_order\":None,\n",
    "}\n",
    "\n",
    "model_builder = ModelForecastFactory()\n",
    "model_forecast = model_builder.get_model(**params)\n"
   ]
  },
  {
   "cell_type": "code",
   "execution_count": 68,
   "id": "504bac99",
   "metadata": {},
   "outputs": [
    {
     "data": {
      "text/plain": [
       "0"
      ]
     },
     "execution_count": 68,
     "metadata": {},
     "output_type": "execute_result"
    }
   ],
   "source": [
    "48%48"
   ]
  },
  {
   "cell_type": "code",
   "execution_count": 32,
   "id": "64e3c8b7",
   "metadata": {},
   "outputs": [],
   "source": [
    "runner = ForecastRunner(model=model_forecast,\n",
    "                  df=prices,\n",
    "                 n_frames=24)\n",
    "\n",
    "sampler = runner.init_sampler()"
   ]
  },
  {
   "cell_type": "markdown",
   "id": "7a0f9b01",
   "metadata": {},
   "source": [
    "### Single run"
   ]
  },
  {
   "cell_type": "code",
   "execution_count": 245,
   "id": "89bc4173",
   "metadata": {},
   "outputs": [
    {
     "name": "stdout",
     "output_type": "stream",
     "text": [
      "CPU times: user 4min 10s, sys: 6.52 s, total: 4min 17s\n",
      "Wall time: 32.2 s\n"
     ]
    }
   ],
   "source": [
    "%%time\n",
    "runner.run_training(\n",
    "    x_train=sampler.x_train\n",
    ")\n"
   ]
  },
  {
   "cell_type": "code",
   "execution_count": 246,
   "id": "b488a018",
   "metadata": {},
   "outputs": [],
   "source": [
    "pred = runner.run_forecast(\n",
    "    n_frames=48)"
   ]
  },
  {
   "cell_type": "code",
   "execution_count": 247,
   "id": "8c56cb43",
   "metadata": {},
   "outputs": [
    {
     "data": {
      "text/plain": [
       "<matplotlib.legend.Legend at 0x7f00058e8790>"
      ]
     },
     "execution_count": 247,
     "metadata": {},
     "output_type": "execute_result"
    },
    {
     "data": {
      "image/png": "[encoded data removed]",
      "text/plain": [
       "<Figure size 432x288 with 1 Axes>"
      ]
     },
     "metadata": {
      "needs_background": "light"
     },
     "output_type": "display_data"
    }
   ],
   "source": [
    "sampler.x_test[:48].plot(label='true')\n",
    "pred.plot(label='prediction', marker='+')\n",
    "plt.legend()"
   ]
  },
  {
   "cell_type": "markdown",
   "id": "bdd2145d",
   "metadata": {},
   "source": [
    "### Multi run"
   ]
  },
  {
   "cell_type": "code",
   "execution_count": 33,
   "id": "656f342a",
   "metadata": {},
   "outputs": [
    {
     "name": "stdout",
     "output_type": "stream",
     "text": [
      "0\n",
      "24\n",
      "48\n",
      "72\n",
      "CPU times: user 16min 58s, sys: 28 s, total: 17min 26s\n",
      "Wall time: 2min 10s\n"
     ]
    },
    {
     "data": {
      "text/plain": [
       "2021-05-26 19:00:00    77.703895\n",
       "2021-05-26 20:00:00    74.141760\n",
       "2021-05-26 21:00:00    67.673109\n",
       "2021-05-26 22:00:00    62.589246\n",
       "2021-05-26 23:00:00    57.846837\n",
       "                         ...    \n",
       "2021-05-27 14:00:00    58.207403\n",
       "2021-05-27 15:00:00    64.326371\n",
       "2021-05-27 16:00:00    72.673452\n",
       "2021-05-27 17:00:00    77.531713\n",
       "2021-05-27 18:00:00    78.244235\n",
       "Name: predicted_mean, Length: 96, dtype: float64"
      ]
     },
     "execution_count": 33,
     "metadata": {},
     "output_type": "execute_result"
    }
   ],
   "source": [
    "%%time\n",
    "runner.run_sequential_window(n_frames=24, n_periods=4)"
   ]
  },
  {
   "cell_type": "code",
   "execution_count": null,
   "id": "bb2e241e",
   "metadata": {},
   "outputs": [],
   "source": [
    "%%time\n",
    "n_forecast = 24\n",
    "n_curr_window = int(0.2*len(prices_s))\n",
    "n_stop = 168\n",
    "pred_list = []\n",
    "for idx in range(n_stop):\n",
    "    if idx % n_forecast == 0:\n",
    "        self.sampler.resample()\n",
    "        model_arima = arima_uni_var_fit(prices_s[:n_curr_window], p=24, d=1, q=0)\n",
    "        pred_list.append(arima_uni_var_predict(model_arima, n_forecast))\n",
    "    n_curr_window +=1"
   ]
  },
  {
   "cell_type": "code",
   "execution_count": null,
   "id": "34ff104c",
   "metadata": {},
   "outputs": [],
   "source": [
    "\n",
    "class"
   ]
  },
  {
   "cell_type": "code",
   "execution_count": null,
   "id": "34c04e3a",
   "metadata": {},
   "outputs": [],
   "source": []
  },
  {
   "cell_type": "code",
   "execution_count": 73,
   "id": "81d954d7",
   "metadata": {},
   "outputs": [],
   "source": [
    "from enum import Enum, auto\n",
    "\n",
    "class TradeAction(Enum):\n",
    "    BUY = 1\n",
    "    SELL = -1\n",
    "    HOLD = 0"
   ]
  },
  {
   "cell_type": "code",
   "execution_count": 71,
   "id": "97a1cf8c",
   "metadata": {},
   "outputs": [],
   "source": [
    "trade_action = {\n",
    "    1:TradeAction.BUY,\n",
    "    0:TradeAction.HOLD,\n",
    "    -1:TradeAction.SELL,\n",
    "}"
   ]
  },
  {
   "cell_type": "markdown",
   "id": "8d80c9b7",
   "metadata": {},
   "source": [
    "## Tests"
   ]
  },
  {
   "cell_type": "code",
   "execution_count": 7,
   "id": "2a7b6e74",
   "metadata": {},
   "outputs": [],
   "source": [
    "from src.main import Experiment\n",
    "from src.action_strategy.factory import ActionStrategy\n",
    "from src.action_strategy.mean_reversion import MeanReversion\n",
    "from src.forecast.factory import ModelForecastFactory\n",
    "from src.forecast.runner import ForecastRunner\n",
    "from src.forecast.utils import SamplerSetForecast\n",
    "from src.io.load import DataLoader, load_config\n",
    "from src.preprocessing.preprocess import ProcessData\n",
    "from src.stock import Balance, Stock\n",
    "import pandas as pd\n",
    "import logging\n",
    "from src.trade_manager import TradeManagerV0"
   ]
  },
  {
   "cell_type": "code",
   "execution_count": 8,
   "id": "ec5b6ad3",
   "metadata": {},
   "outputs": [],
   "source": [
    "from typing import Any"
   ]
  },
  {
   "cell_type": "code",
   "execution_count": 9,
   "id": "498800dc",
   "metadata": {},
   "outputs": [],
   "source": [
    "from src.main import dummy_func"
   ]
  },
  {
   "cell_type": "code",
   "execution_count": 16,
   "id": "dba13c7c",
   "metadata": {},
   "outputs": [],
   "source": [
    "log=logging.getLogger(__name__)\n",
    "log.setLevel(logging.DEBUG)"
   ]
  },
  {
   "cell_type": "code",
   "execution_count": 11,
   "id": "548a66f1",
   "metadata": {},
   "outputs": [],
   "source": [
    "import os\n",
    "os.chdir(os.path.dirname(os.getcwd()))"
   ]
  },
  {
   "cell_type": "code",
   "execution_count": 12,
   "id": "9b56bf9a",
   "metadata": {},
   "outputs": [],
   "source": [
    "\n",
    "def load_data(name=\"germany\"):\n",
    "    builder = DataLoader()\n",
    "    return builder.load_dataset(name, start_date=None, end_date=None)\n",
    "\n"
   ]
  },
  {
   "cell_type": "code",
   "execution_count": 124,
   "id": "bea50f6b",
   "metadata": {},
   "outputs": [],
   "source": [
    "test = forecast_runner.sampler.x_test.tail()"
   ]
  },
  {
   "cell_type": "code",
   "execution_count": 125,
   "id": "6d45d2bf",
   "metadata": {},
   "outputs": [],
   "source": [
    "df = forecast_runner.sampler.x_test"
   ]
  },
  {
   "cell_type": "code",
   "execution_count": 136,
   "id": "26c915c2",
   "metadata": {},
   "outputs": [
    {
     "data": {
      "text/plain": [
       "time\n",
       "2021-12-31 19:00:00     0.18\n",
       "2021-12-31 20:00:00     0.08\n",
       "2021-12-31 21:00:00     5.10\n",
       "2021-12-31 22:00:00     6.32\n",
       "2021-12-31 23:00:00    50.05\n",
       "Freq: H, Name: rr, dtype: float64"
      ]
     },
     "execution_count": 136,
     "metadata": {},
     "output_type": "execute_result"
    }
   ],
   "source": [
    "df.loc[test.index].rename(\"rr\")"
   ]
  },
  {
   "cell_type": "code",
   "execution_count": 153,
   "id": "a9297789",
   "metadata": {},
   "outputs": [
    {
     "name": "stdout",
     "output_type": "stream",
     "text": [
      "0.18\n",
      "0.08\n",
      "5.1\n",
      "6.32\n",
      "50.05\n"
     ]
    }
   ],
   "source": [
    "for i, _ in test.items():\n",
    "    print(_)"
   ]
  },
  {
   "cell_type": "code",
   "execution_count": 176,
   "id": "a290eb1e",
   "metadata": {},
   "outputs": [],
   "source": [
    "from dataclasses import dataclass, field\n",
    "\n",
    "from src.action_strategy.factory import trade_action, TradeAction\n",
    "\n",
    "@dataclass\n",
    "class TradeManagerV0:\n",
    "    strategy: ActionStrategy\n",
    "    forecast_runner: ForecastRunner\n",
    "\n",
    "    def trade_on_period(self):\n",
    "        pass\n",
    "\n",
    "    def run_trade(self, exp):\n",
    "        self.forecast_runner.run_training()\n",
    "        pred_prices = self.forecast_runner.run_forecast()\n",
    "        pred_prices = pred_prices.to_frame(\"value\")\n",
    "        #return pred_prices\n",
    "        results = self.strategy.get_action_window(pred_prices)\n",
    "\n",
    "        for _,s_price in results.iterrows():\n",
    "            self.trade_unit(s_price, exp)\n",
    "        \n",
    "        return results\n",
    "        \n",
    "    def trade_unit(self, s_price: pd.Series, exp):\n",
    "\n",
    "        exp.stock.update_stock(s_price['action'])\n",
    "        exp.balance.update_balance(s_price['action'], s_price['true_prices'])\n",
    "        log.info(f\"Current cpty : {exp.stock.current_cpty}\")\n",
    "        log.info(f\"Current balance : {exp.balance.current_level}\")\n",
    "\n",
    "\n",
    "@dataclass\n",
    "class Experiment:\n",
    "    \"\"\" run experiment\"\"\"\n",
    "    stock: Stock\n",
    "    df: pd.DataFrame\n",
    "    forecast_runner: ForecastRunner\n",
    "    strategy: ActionStrategy\n",
    "    balance: Balance\n",
    "    \n",
    "\n",
    "    def run(self):\n",
    "\n",
    "        self.manager = TradeManagerV0(strategy=self.strategy,\n",
    "                                forecast_runner=self.forecast_runner,\n",
    "                                     )\n",
    "        \n",
    "        return self.manager.run_trade(self)\n",
    "        \n",
    "\n",
    "@dataclass\n",
    "class MeanReversion(ActionStrategy):\n",
    "    prices: pd.Series\n",
    "    period: int\n",
    "    alpha:float\n",
    "\n",
    "    def get_indicator(self, prices):\n",
    "        \"\"\"bollinger bands\"\"\"\n",
    "        prices = prices.to_frame()\n",
    "        prices[\"mean\"] = prices[\"value\"].rolling(self.period, min_periods=1).mean()\n",
    "        prices[\"std\"] = prices[\"value\"].rolling(self.period, min_periods=1).std()\n",
    "        \n",
    "        prices[\"upper_bollinger\"] = prices[\"mean\"] + (self.alpha * prices[\"std\"])\n",
    "        prices[\"lower_bollinger\"] = prices[\"mean\"] - (self.alpha * prices[\"std\"])\n",
    "        return prices\n",
    "\n",
    "    def get_action_window(self, window_prices):\n",
    "\n",
    "        self.prices = self.get_indicator(self.prices)\n",
    "        window_prices['buy'] = (\n",
    "            np.where(\n",
    "                window_prices['value'] >= self.prices.loc[window_prices.index, 'upper_bollinger'], \n",
    "                1, 0,\n",
    "                )\n",
    "        )\n",
    "        window_prices['sell'] = (\n",
    "            np.where(\n",
    "                window_prices['value'] <= self.prices.loc[window_prices.index, 'lower_bollinger'],\n",
    "             -1, 0,\n",
    "             )\n",
    "        )\n",
    "        window_prices['action'] = window_prices[['buy', 'sell']].sum(axis=1).map(trade_action)\n",
    "        \n",
    "        window_prices = window_prices.rename({\"value\":\"pred_prices\"}, axis=1) \n",
    "        true_prices = self.prices.loc[window_prices.index].rename({\"value\":\"true_prices\"}, axis=1)\n",
    "        results = pd.concat([true_prices, window_prices], axis=1)\n",
    "\n",
    "        return results\n",
    "    \n",
    "@dataclass\n",
    "class Balance:\n",
    "    init_level: float\n",
    "\n",
    "    def __post_init__(self):\n",
    "        self.init_balance()\n",
    "\n",
    "    def init_balance(self):\n",
    "        self.current_level = self.init_level\n",
    "\n",
    "    def update_balance(self, action: str, price: float):\n",
    "        transaction = {\n",
    "            TradeAction.BUY.name: -1,\n",
    "            TradeAction.SELL.name: 1,\n",
    "            TradeAction.HOLD.name: 0,\n",
    "        }\n",
    "        #log.info(f\"ACTION : {action}\")\n",
    "        self.current_level += transaction[action]*price\n",
    "        return self\n",
    "\n",
    "\n",
    "@dataclass\n",
    "class Stock:\n",
    "    storage_pwr: float\n",
    "    rho_d: float\n",
    "    rho_s: float\n",
    "    t_discharge: float\n",
    "    init_storage_cpty: float = 0\n",
    "    current_cpty: float = field(init=False)\n",
    "    storage_cpty: float = field(init=False)\n",
    "\n",
    "    def __post_init__(self):\n",
    "        self.init_stock()\n",
    "\n",
    "    def init_stock(self):\n",
    "        self.storage_cpty = int(self.storage_pwr*(self.t_discharge/self.rho_d))\n",
    "        self.current_cpty = self.init_storage_cpty\n",
    "    \n",
    "    def update_stock(self, action: str):\n",
    "        log.info(f\"action Stock : {action}\")\n",
    "        if action == TradeAction.BUY.name:\n",
    "            self.add_to_stock()\n",
    "        elif action == TradeAction.SELL.name:\n",
    "            self.retrieve_from_stock()\n",
    "        log.info(f\"Updated Stock : {self.current_cpty}\")\n",
    "        return self\n",
    "\n",
    "    @property\n",
    "    def is_empty(self):\n",
    "        return self.current_cpty == 0\n",
    "    \n",
    "    @property\n",
    "    def is_full(self):\n",
    "        return self.current_cpty == self.storage_cpty\n",
    "\n",
    "    def add_to_stock(self):\n",
    "        qty = (\n",
    "            min(\n",
    "                (self.storage_cpty - self.current_cpty), \n",
    "                (self.storage_pwr*self.rho_s*1)\n",
    "            )\n",
    "        if not self.is_full else 0)\n",
    "        log.info('---')\n",
    "        log.info(f'current : {self.current_cpty} - action qty : {qty}')\n",
    "        log.info('---')        \n",
    "        self.current_cpty += qty\n",
    "        \n",
    "\n",
    "    def retrieve_from_stock(self):\n",
    "        qty = (\n",
    "            min(\n",
    "                self.current_cpty, \n",
    "                (self.storage_pwr/self.rho_d*1)\n",
    "            )\n",
    "        if not self.is_empty else 0)\n",
    "        log.info('---')\n",
    "        log.info(f'current : {self.current_cpty} - action qty : -{qty}')\n",
    "        log.info('---')\n",
    "        self.current_cpty -= qty\n",
    "\n"
   ]
  },
  {
   "cell_type": "code",
   "execution_count": 187,
   "id": "922b2e95",
   "metadata": {},
   "outputs": [
    {
     "data": {
      "text/plain": [
       "16777216"
      ]
     },
     "execution_count": 187,
     "metadata": {},
     "output_type": "execute_result"
    }
   ],
   "source": [
    "2**(24)"
   ]
  },
  {
   "cell_type": "code",
   "execution_count": 188,
   "id": "2b9e402b",
   "metadata": {},
   "outputs": [
    {
     "data": {
      "text/plain": [
       "1024"
      ]
     },
     "execution_count": 188,
     "metadata": {},
     "output_type": "execute_result"
    }
   ],
   "source": [
    "2**10"
   ]
  },
  {
   "cell_type": "code",
   "execution_count": 177,
   "id": "4571310e",
   "metadata": {},
   "outputs": [
    {
     "name": "stderr",
     "output_type": "stream",
     "text": [
      "INFO:__main__:Load data and config..\n",
      "INFO:__main__:Process data ..\n",
      "INFO:__main__:Init classes..\n"
     ]
    }
   ],
   "source": [
    "market_name = \"germany\"\n",
    "config_file = \"1\"\n",
    "window_predict = (\"01-01-2017\", \"03-01-2017\")\n",
    "log.info(\"Load data and config..\")\n",
    "\n",
    "config_exp = load_config(config_file)\n",
    "prices = load_data(market_name)\n",
    "log.info(\"Process data ..\")\n",
    "prices = ProcessData(df=prices).run_preprocess()\n",
    "log.info(\"Init classes..\")"
   ]
  },
  {
   "cell_type": "code",
   "execution_count": 198,
   "id": "7f65b2c8",
   "metadata": {},
   "outputs": [],
   "source": [
    "@dataclass\n",
    "class A:\n",
    "    tr:str\n",
    "        \n",
    "@dataclass\n",
    "class B:\n",
    "    aa: A\n",
    "    rd:int"
   ]
  },
  {
   "cell_type": "code",
   "execution_count": 199,
   "id": "1e7745c3",
   "metadata": {},
   "outputs": [],
   "source": [
    "a=A(\"re\")\n",
    "b=B(aa=a, rd=4)"
   ]
  },
  {
   "cell_type": "code",
   "execution_count": 200,
   "id": "fa3db86b",
   "metadata": {},
   "outputs": [],
   "source": [
    "a.tr = 'uuuu'"
   ]
  },
  {
   "cell_type": "code",
   "execution_count": 201,
   "id": "a5f18052",
   "metadata": {},
   "outputs": [
    {
     "data": {
      "text/plain": [
       "'uuuu'"
      ]
     },
     "execution_count": 201,
     "metadata": {},
     "output_type": "execute_result"
    }
   ],
   "source": [
    "b.aa.tr"
   ]
  },
  {
   "cell_type": "code",
   "execution_count": 179,
   "id": "ae7d3855",
   "metadata": {},
   "outputs": [
    {
     "name": "stderr",
     "output_type": "stream",
     "text": [
      "INFO:__main__:Init forecast runner..\n"
     ]
    }
   ],
   "source": [
    "stock = Stock(storage_pwr=config_exp[\"storage_pwr\"], \n",
    "                rho_d=config_exp[\"rho_d\"], \n",
    "                rho_s=config_exp[\"rho_s\"],\n",
    "                t_discharge=config_exp[\"t_discharge\"],\n",
    "                )\n",
    "balance = Balance(init_level=config_exp[\"balance_init_level\"])\n",
    "sampler = SamplerSetForecast(df=prices, prop=0.2)\n",
    "\n",
    "model_forecast = ModelForecastFactory().get_model(**{\n",
    "                                    \"name\":\"arima\",\n",
    "                                    \"order\":dict(p=24, d=1, q=0),\n",
    "                                    \"seasonal_order\":None,\n",
    "                                    })\n",
    "log.info(\"Init forecast runner..\")\n",
    "\n",
    "forecast_runner = ForecastRunner(model=model_forecast,\n",
    "                            n_frames=config_exp[\"n_frames\"],\n",
    "                            sampler=sampler,\n",
    "                            )    \n",
    "\n",
    "strategy = MeanReversion(prices=prices,\n",
    "                    period=config_exp[\"period\"],\n",
    "                    alpha=config_exp[\"alpha\"],\n",
    "                    )"
   ]
  },
  {
   "cell_type": "code",
   "execution_count": 180,
   "id": "5a47502e",
   "metadata": {},
   "outputs": [
    {
     "data": {
      "text/plain": [
       "{'storage_cpty': 956,\n",
       " 'storage_pwr': 100,\n",
       " 'rho_d': 0.86,\n",
       " 'rho_s': 0.86,\n",
       " 'eta': 0.7,\n",
       " 't_discharge': 8,\n",
       " 'balance_init_level': 1000,\n",
       " 'alpha': 0.7,\n",
       " 'period': 23,\n",
       " 'n_frames': 24}"
      ]
     },
     "execution_count": 180,
     "metadata": {},
     "output_type": "execute_result"
    }
   ],
   "source": [
    "config_exp"
   ]
  },
  {
   "cell_type": "code",
   "execution_count": 181,
   "id": "74c7fbd4",
   "metadata": {},
   "outputs": [],
   "source": [
    "exp = Experiment(stock=stock, \n",
    "                df=sampler.df,\n",
    "                forecast_runner=forecast_runner,\n",
    "                strategy=strategy,\n",
    "                balance=balance,\n",
    "                )"
   ]
  },
  {
   "cell_type": "code",
   "execution_count": 182,
   "id": "98dfac16",
   "metadata": {},
   "outputs": [
    {
     "name": "stderr",
     "output_type": "stream",
     "text": [
      "INFO:__main__:action Stock : BUY\n",
      "INFO:__main__:---\n",
      "INFO:__main__:current : 0 - action qty : 86.0\n",
      "INFO:__main__:---\n",
      "INFO:__main__:Updated Stock : 86.0\n",
      "INFO:__main__:Current cpty : 86.0\n",
      "INFO:__main__:Current balance : 922.74\n",
      "INFO:__main__:action Stock : HOLD\n",
      "INFO:__main__:Updated Stock : 86.0\n",
      "INFO:__main__:Current cpty : 86.0\n",
      "INFO:__main__:Current balance : 922.74\n",
      "INFO:__main__:action Stock : HOLD\n",
      "INFO:__main__:Updated Stock : 86.0\n",
      "INFO:__main__:Current cpty : 86.0\n",
      "INFO:__main__:Current balance : 922.74\n",
      "INFO:__main__:action Stock : HOLD\n",
      "INFO:__main__:Updated Stock : 86.0\n",
      "INFO:__main__:Current cpty : 86.0\n",
      "INFO:__main__:Current balance : 922.74\n",
      "INFO:__main__:action Stock : SELL\n",
      "INFO:__main__:---\n",
      "INFO:__main__:current : 86.0 - action qty : -86.0\n",
      "INFO:__main__:---\n",
      "INFO:__main__:Updated Stock : 0.0\n",
      "INFO:__main__:Current cpty : 0.0\n",
      "INFO:__main__:Current balance : 980.89\n",
      "INFO:__main__:action Stock : SELL\n",
      "INFO:__main__:---\n",
      "INFO:__main__:current : 0.0 - action qty : -0\n",
      "INFO:__main__:---\n",
      "INFO:__main__:Updated Stock : 0.0\n",
      "INFO:__main__:Current cpty : 0.0\n",
      "INFO:__main__:Current balance : 1037.26\n",
      "INFO:__main__:action Stock : SELL\n",
      "INFO:__main__:---\n",
      "INFO:__main__:current : 0.0 - action qty : -0\n",
      "INFO:__main__:---\n",
      "INFO:__main__:Updated Stock : 0.0\n",
      "INFO:__main__:Current cpty : 0.0\n",
      "INFO:__main__:Current balance : 1089.97\n",
      "INFO:__main__:action Stock : SELL\n",
      "INFO:__main__:---\n",
      "INFO:__main__:current : 0.0 - action qty : -0\n",
      "INFO:__main__:---\n",
      "INFO:__main__:Updated Stock : 0.0\n",
      "INFO:__main__:Current cpty : 0.0\n",
      "INFO:__main__:Current balance : 1142.8700000000001\n",
      "INFO:__main__:action Stock : HOLD\n",
      "INFO:__main__:Updated Stock : 0.0\n",
      "INFO:__main__:Current cpty : 0.0\n",
      "INFO:__main__:Current balance : 1142.8700000000001\n",
      "INFO:__main__:action Stock : BUY\n",
      "INFO:__main__:---\n",
      "INFO:__main__:current : 0.0 - action qty : 86.0\n",
      "INFO:__main__:---\n",
      "INFO:__main__:Updated Stock : 86.0\n",
      "INFO:__main__:Current cpty : 86.0\n",
      "INFO:__main__:Current balance : 1065.8700000000001\n",
      "INFO:__main__:action Stock : BUY\n",
      "INFO:__main__:---\n",
      "INFO:__main__:current : 86.0 - action qty : 86.0\n",
      "INFO:__main__:---\n",
      "INFO:__main__:Updated Stock : 172.0\n",
      "INFO:__main__:Current cpty : 172.0\n",
      "INFO:__main__:Current balance : 981.4000000000001\n",
      "INFO:__main__:action Stock : BUY\n",
      "INFO:__main__:---\n",
      "INFO:__main__:current : 172.0 - action qty : 86.0\n",
      "INFO:__main__:---\n",
      "INFO:__main__:Updated Stock : 258.0\n",
      "INFO:__main__:Current cpty : 258.0\n",
      "INFO:__main__:Current balance : 894.95\n",
      "INFO:__main__:action Stock : BUY\n",
      "INFO:__main__:---\n",
      "INFO:__main__:current : 258.0 - action qty : 86.0\n",
      "INFO:__main__:---\n",
      "INFO:__main__:Updated Stock : 344.0\n",
      "INFO:__main__:Current cpty : 344.0\n",
      "INFO:__main__:Current balance : 815.1600000000001\n",
      "INFO:__main__:action Stock : HOLD\n",
      "INFO:__main__:Updated Stock : 344.0\n",
      "INFO:__main__:Current cpty : 344.0\n",
      "INFO:__main__:Current balance : 815.1600000000001\n",
      "INFO:__main__:action Stock : HOLD\n",
      "INFO:__main__:Updated Stock : 344.0\n",
      "INFO:__main__:Current cpty : 344.0\n",
      "INFO:__main__:Current balance : 815.1600000000001\n",
      "INFO:__main__:action Stock : HOLD\n",
      "INFO:__main__:Updated Stock : 344.0\n",
      "INFO:__main__:Current cpty : 344.0\n",
      "INFO:__main__:Current balance : 815.1600000000001\n",
      "INFO:__main__:action Stock : SELL\n",
      "INFO:__main__:---\n",
      "INFO:__main__:current : 344.0 - action qty : -116.27906976744187\n",
      "INFO:__main__:---\n",
      "INFO:__main__:Updated Stock : 227.72093023255815\n",
      "INFO:__main__:Current cpty : 227.72093023255815\n",
      "INFO:__main__:Current balance : 880.48\n",
      "INFO:__main__:action Stock : SELL\n",
      "INFO:__main__:---\n",
      "INFO:__main__:current : 227.72093023255815 - action qty : -116.27906976744187\n",
      "INFO:__main__:---\n",
      "INFO:__main__:Updated Stock : 111.44186046511628\n",
      "INFO:__main__:Current cpty : 111.44186046511628\n",
      "INFO:__main__:Current balance : 941.25\n",
      "INFO:__main__:action Stock : SELL\n",
      "INFO:__main__:---\n",
      "INFO:__main__:current : 111.44186046511628 - action qty : -111.44186046511628\n",
      "INFO:__main__:---\n",
      "INFO:__main__:Updated Stock : 0.0\n",
      "INFO:__main__:Current cpty : 0.0\n",
      "INFO:__main__:Current balance : 1001.7\n",
      "INFO:__main__:action Stock : SELL\n",
      "INFO:__main__:---\n",
      "INFO:__main__:current : 0.0 - action qty : -0\n",
      "INFO:__main__:---\n",
      "INFO:__main__:Updated Stock : 0.0\n",
      "INFO:__main__:Current cpty : 0.0\n",
      "INFO:__main__:Current balance : 1062.6100000000001\n",
      "INFO:__main__:action Stock : HOLD\n",
      "INFO:__main__:Updated Stock : 0.0\n",
      "INFO:__main__:Current cpty : 0.0\n",
      "INFO:__main__:Current balance : 1062.6100000000001\n",
      "INFO:__main__:action Stock : HOLD\n",
      "INFO:__main__:Updated Stock : 0.0\n",
      "INFO:__main__:Current cpty : 0.0\n",
      "INFO:__main__:Current balance : 1062.6100000000001\n",
      "INFO:__main__:action Stock : BUY\n",
      "INFO:__main__:---\n",
      "INFO:__main__:current : 0.0 - action qty : 86.0\n",
      "INFO:__main__:---\n",
      "INFO:__main__:Updated Stock : 86.0\n",
      "INFO:__main__:Current cpty : 86.0\n",
      "INFO:__main__:Current balance : 976.6200000000001\n",
      "INFO:__main__:action Stock : BUY\n",
      "INFO:__main__:---\n",
      "INFO:__main__:current : 86.0 - action qty : 86.0\n",
      "INFO:__main__:---\n",
      "INFO:__main__:Updated Stock : 172.0\n",
      "INFO:__main__:Current cpty : 172.0\n",
      "INFO:__main__:Current balance : 887.7500000000001\n"
     ]
    },
    {
     "name": "stdout",
     "output_type": "stream",
     "text": [
      "CPU times: user 4min 43s, sys: 10.4 s, total: 4min 53s\n",
      "Wall time: 37.3 s\n"
     ]
    }
   ],
   "source": [
    "%%time\n",
    "results = exp.run()"
   ]
  },
  {
   "cell_type": "code",
   "execution_count": 183,
   "id": "034d3354",
   "metadata": {},
   "outputs": [
    {
     "data": {
      "text/html": [
       "<div>\n",
       "<style scoped>\n",
       "    .dataframe tbody tr th:only-of-type {\n",
       "        vertical-align: middle;\n",
       "    }\n",
       "\n",
       "    .dataframe tbody tr th {\n",
       "        vertical-align: top;\n",
       "    }\n",
       "\n",
       "    .dataframe thead th {\n",
       "        text-align: right;\n",
       "    }\n",
       "</style>\n",
       "<table border=\"1\" class=\"dataframe\">\n",
       "  <thead>\n",
       "    <tr style=\"text-align: right;\">\n",
       "      <th></th>\n",
       "      <th>true_prices</th>\n",
       "      <th>mean</th>\n",
       "      <th>std</th>\n",
       "      <th>upper_bollinger</th>\n",
       "      <th>lower_bollinger</th>\n",
       "      <th>pred_prices</th>\n",
       "      <th>buy</th>\n",
       "      <th>sell</th>\n",
       "      <th>action</th>\n",
       "    </tr>\n",
       "  </thead>\n",
       "  <tbody>\n",
       "    <tr>\n",
       "      <th>2021-05-26 19:00:00</th>\n",
       "      <td>77.26</td>\n",
       "      <td>65.807391</td>\n",
       "      <td>11.174083</td>\n",
       "      <td>73.629250</td>\n",
       "      <td>57.985533</td>\n",
       "      <td>77.703895</td>\n",
       "      <td>1</td>\n",
       "      <td>0</td>\n",
       "      <td>BUY</td>\n",
       "    </tr>\n",
       "    <tr>\n",
       "      <th>2021-05-26 20:00:00</th>\n",
       "      <td>75.28</td>\n",
       "      <td>66.237391</td>\n",
       "      <td>11.346258</td>\n",
       "      <td>74.179772</td>\n",
       "      <td>58.295011</td>\n",
       "      <td>74.141760</td>\n",
       "      <td>0</td>\n",
       "      <td>0</td>\n",
       "      <td>HOLD</td>\n",
       "    </tr>\n",
       "    <tr>\n",
       "      <th>2021-05-26 21:00:00</th>\n",
       "      <td>51.08</td>\n",
       "      <td>65.795217</td>\n",
       "      <td>11.740764</td>\n",
       "      <td>74.013752</td>\n",
       "      <td>57.576682</td>\n",
       "      <td>67.673109</td>\n",
       "      <td>0</td>\n",
       "      <td>0</td>\n",
       "      <td>HOLD</td>\n",
       "    </tr>\n",
       "    <tr>\n",
       "      <th>2021-05-26 22:00:00</th>\n",
       "      <td>60.13</td>\n",
       "      <td>66.028696</td>\n",
       "      <td>11.563396</td>\n",
       "      <td>74.123073</td>\n",
       "      <td>57.934318</td>\n",
       "      <td>62.589246</td>\n",
       "      <td>0</td>\n",
       "      <td>0</td>\n",
       "      <td>HOLD</td>\n",
       "    </tr>\n",
       "    <tr>\n",
       "      <th>2021-05-26 23:00:00</th>\n",
       "      <td>58.15</td>\n",
       "      <td>66.294783</td>\n",
       "      <td>11.293902</td>\n",
       "      <td>74.200514</td>\n",
       "      <td>58.389051</td>\n",
       "      <td>57.846837</td>\n",
       "      <td>0</td>\n",
       "      <td>-1</td>\n",
       "      <td>SELL</td>\n",
       "    </tr>\n",
       "    <tr>\n",
       "      <th>2021-05-27 00:00:00</th>\n",
       "      <td>56.37</td>\n",
       "      <td>66.521739</td>\n",
       "      <td>11.024974</td>\n",
       "      <td>74.239221</td>\n",
       "      <td>58.804258</td>\n",
       "      <td>55.209097</td>\n",
       "      <td>0</td>\n",
       "      <td>-1</td>\n",
       "      <td>SELL</td>\n",
       "    </tr>\n",
       "    <tr>\n",
       "      <th>2021-05-27 01:00:00</th>\n",
       "      <td>52.71</td>\n",
       "      <td>66.540435</td>\n",
       "      <td>11.000062</td>\n",
       "      <td>74.240478</td>\n",
       "      <td>58.840392</td>\n",
       "      <td>54.708143</td>\n",
       "      <td>0</td>\n",
       "      <td>-1</td>\n",
       "      <td>SELL</td>\n",
       "    </tr>\n",
       "    <tr>\n",
       "      <th>2021-05-27 02:00:00</th>\n",
       "      <td>52.90</td>\n",
       "      <td>66.243043</td>\n",
       "      <td>11.281141</td>\n",
       "      <td>74.139842</td>\n",
       "      <td>58.346245</td>\n",
       "      <td>57.219816</td>\n",
       "      <td>0</td>\n",
       "      <td>-1</td>\n",
       "      <td>SELL</td>\n",
       "    </tr>\n",
       "    <tr>\n",
       "      <th>2021-05-27 03:00:00</th>\n",
       "      <td>60.75</td>\n",
       "      <td>65.550435</td>\n",
       "      <td>11.098774</td>\n",
       "      <td>73.319577</td>\n",
       "      <td>57.781293</td>\n",
       "      <td>64.285478</td>\n",
       "      <td>0</td>\n",
       "      <td>0</td>\n",
       "      <td>HOLD</td>\n",
       "    </tr>\n",
       "    <tr>\n",
       "      <th>2021-05-27 04:00:00</th>\n",
       "      <td>77.00</td>\n",
       "      <td>65.220435</td>\n",
       "      <td>10.608968</td>\n",
       "      <td>72.646712</td>\n",
       "      <td>57.794157</td>\n",
       "      <td>74.204812</td>\n",
       "      <td>1</td>\n",
       "      <td>0</td>\n",
       "      <td>BUY</td>\n",
       "    </tr>\n",
       "    <tr>\n",
       "      <th>2021-05-27 05:00:00</th>\n",
       "      <td>84.47</td>\n",
       "      <td>65.260000</td>\n",
       "      <td>10.681918</td>\n",
       "      <td>72.737343</td>\n",
       "      <td>57.782657</td>\n",
       "      <td>80.221826</td>\n",
       "      <td>1</td>\n",
       "      <td>0</td>\n",
       "      <td>BUY</td>\n",
       "    </tr>\n",
       "    <tr>\n",
       "      <th>2021-05-27 06:00:00</th>\n",
       "      <td>86.45</td>\n",
       "      <td>65.820000</td>\n",
       "      <td>11.447552</td>\n",
       "      <td>73.833286</td>\n",
       "      <td>57.806714</td>\n",
       "      <td>79.939656</td>\n",
       "      <td>1</td>\n",
       "      <td>0</td>\n",
       "      <td>BUY</td>\n",
       "    </tr>\n",
       "    <tr>\n",
       "      <th>2021-05-27 07:00:00</th>\n",
       "      <td>79.79</td>\n",
       "      <td>66.294783</td>\n",
       "      <td>11.800800</td>\n",
       "      <td>74.555343</td>\n",
       "      <td>58.034223</td>\n",
       "      <td>75.049134</td>\n",
       "      <td>1</td>\n",
       "      <td>0</td>\n",
       "      <td>BUY</td>\n",
       "    </tr>\n",
       "    <tr>\n",
       "      <th>2021-05-27 08:00:00</th>\n",
       "      <td>79.13</td>\n",
       "      <td>66.657826</td>\n",
       "      <td>12.070418</td>\n",
       "      <td>75.107118</td>\n",
       "      <td>58.208534</td>\n",
       "      <td>71.039190</td>\n",
       "      <td>0</td>\n",
       "      <td>0</td>\n",
       "      <td>HOLD</td>\n",
       "    </tr>\n",
       "    <tr>\n",
       "      <th>2021-05-27 09:00:00</th>\n",
       "      <td>78.07</td>\n",
       "      <td>67.231739</td>\n",
       "      <td>12.293301</td>\n",
       "      <td>75.837050</td>\n",
       "      <td>58.626429</td>\n",
       "      <td>68.522924</td>\n",
       "      <td>0</td>\n",
       "      <td>0</td>\n",
       "      <td>HOLD</td>\n",
       "    </tr>\n",
       "    <tr>\n",
       "      <th>2021-05-27 10:00:00</th>\n",
       "      <td>74.95</td>\n",
       "      <td>67.880435</td>\n",
       "      <td>12.289654</td>\n",
       "      <td>76.483193</td>\n",
       "      <td>59.277677</td>\n",
       "      <td>64.133845</td>\n",
       "      <td>0</td>\n",
       "      <td>0</td>\n",
       "      <td>HOLD</td>\n",
       "    </tr>\n",
       "    <tr>\n",
       "      <th>2021-05-27 11:00:00</th>\n",
       "      <td>65.32</td>\n",
       "      <td>68.378696</td>\n",
       "      <td>11.922203</td>\n",
       "      <td>76.724238</td>\n",
       "      <td>60.033153</td>\n",
       "      <td>59.915339</td>\n",
       "      <td>0</td>\n",
       "      <td>-1</td>\n",
       "      <td>SELL</td>\n",
       "    </tr>\n",
       "    <tr>\n",
       "      <th>2021-05-27 12:00:00</th>\n",
       "      <td>60.77</td>\n",
       "      <td>68.692174</td>\n",
       "      <td>11.605435</td>\n",
       "      <td>76.815979</td>\n",
       "      <td>60.568369</td>\n",
       "      <td>56.548601</td>\n",
       "      <td>0</td>\n",
       "      <td>-1</td>\n",
       "      <td>SELL</td>\n",
       "    </tr>\n",
       "    <tr>\n",
       "      <th>2021-05-27 13:00:00</th>\n",
       "      <td>60.45</td>\n",
       "      <td>68.965217</td>\n",
       "      <td>11.318569</td>\n",
       "      <td>76.888216</td>\n",
       "      <td>61.042219</td>\n",
       "      <td>56.044690</td>\n",
       "      <td>0</td>\n",
       "      <td>-1</td>\n",
       "      <td>SELL</td>\n",
       "    </tr>\n",
       "    <tr>\n",
       "      <th>2021-05-27 14:00:00</th>\n",
       "      <td>60.91</td>\n",
       "      <td>68.976522</td>\n",
       "      <td>11.310013</td>\n",
       "      <td>76.893531</td>\n",
       "      <td>61.059513</td>\n",
       "      <td>58.207403</td>\n",
       "      <td>0</td>\n",
       "      <td>-1</td>\n",
       "      <td>SELL</td>\n",
       "    </tr>\n",
       "    <tr>\n",
       "      <th>2021-05-27 15:00:00</th>\n",
       "      <td>69.62</td>\n",
       "      <td>68.763478</td>\n",
       "      <td>11.246819</td>\n",
       "      <td>76.636252</td>\n",
       "      <td>60.890705</td>\n",
       "      <td>64.326371</td>\n",
       "      <td>0</td>\n",
       "      <td>0</td>\n",
       "      <td>HOLD</td>\n",
       "    </tr>\n",
       "    <tr>\n",
       "      <th>2021-05-27 16:00:00</th>\n",
       "      <td>79.96</td>\n",
       "      <td>68.761739</td>\n",
       "      <td>11.245006</td>\n",
       "      <td>76.633243</td>\n",
       "      <td>60.890235</td>\n",
       "      <td>72.673452</td>\n",
       "      <td>0</td>\n",
       "      <td>0</td>\n",
       "      <td>HOLD</td>\n",
       "    </tr>\n",
       "    <tr>\n",
       "      <th>2021-05-27 17:00:00</th>\n",
       "      <td>85.99</td>\n",
       "      <td>69.022174</td>\n",
       "      <td>11.581446</td>\n",
       "      <td>77.129186</td>\n",
       "      <td>60.915161</td>\n",
       "      <td>77.531713</td>\n",
       "      <td>1</td>\n",
       "      <td>0</td>\n",
       "      <td>BUY</td>\n",
       "    </tr>\n",
       "    <tr>\n",
       "      <th>2021-05-27 18:00:00</th>\n",
       "      <td>88.87</td>\n",
       "      <td>69.526957</td>\n",
       "      <td>12.193649</td>\n",
       "      <td>78.062511</td>\n",
       "      <td>60.991402</td>\n",
       "      <td>78.244235</td>\n",
       "      <td>1</td>\n",
       "      <td>0</td>\n",
       "      <td>BUY</td>\n",
       "    </tr>\n",
       "  </tbody>\n",
       "</table>\n",
       "</div>"
      ],
      "text/plain": [
       "                     true_prices       mean        std  upper_bollinger  \\\n",
       "2021-05-26 19:00:00        77.26  65.807391  11.174083        73.629250   \n",
       "2021-05-26 20:00:00        75.28  66.237391  11.346258        74.179772   \n",
       "2021-05-26 21:00:00        51.08  65.795217  11.740764        74.013752   \n",
       "2021-05-26 22:00:00        60.13  66.028696  11.563396        74.123073   \n",
       "2021-05-26 23:00:00        58.15  66.294783  11.293902        74.200514   \n",
       "2021-05-27 00:00:00        56.37  66.521739  11.024974        74.239221   \n",
       "2021-05-27 01:00:00        52.71  66.540435  11.000062        74.240478   \n",
       "2021-05-27 02:00:00        52.90  66.243043  11.281141        74.139842   \n",
       "2021-05-27 03:00:00        60.75  65.550435  11.098774        73.319577   \n",
       "2021-05-27 04:00:00        77.00  65.220435  10.608968        72.646712   \n",
       "2021-05-27 05:00:00        84.47  65.260000  10.681918        72.737343   \n",
       "2021-05-27 06:00:00        86.45  65.820000  11.447552        73.833286   \n",
       "2021-05-27 07:00:00        79.79  66.294783  11.800800        74.555343   \n",
       "2021-05-27 08:00:00        79.13  66.657826  12.070418        75.107118   \n",
       "2021-05-27 09:00:00        78.07  67.231739  12.293301        75.837050   \n",
       "2021-05-27 10:00:00        74.95  67.880435  12.289654        76.483193   \n",
       "2021-05-27 11:00:00        65.32  68.378696  11.922203        76.724238   \n",
       "2021-05-27 12:00:00        60.77  68.692174  11.605435        76.815979   \n",
       "2021-05-27 13:00:00        60.45  68.965217  11.318569        76.888216   \n",
       "2021-05-27 14:00:00        60.91  68.976522  11.310013        76.893531   \n",
       "2021-05-27 15:00:00        69.62  68.763478  11.246819        76.636252   \n",
       "2021-05-27 16:00:00        79.96  68.761739  11.245006        76.633243   \n",
       "2021-05-27 17:00:00        85.99  69.022174  11.581446        77.129186   \n",
       "2021-05-27 18:00:00        88.87  69.526957  12.193649        78.062511   \n",
       "\n",
       "                     lower_bollinger  pred_prices  buy  sell action  \n",
       "2021-05-26 19:00:00        57.985533    77.703895    1     0    BUY  \n",
       "2021-05-26 20:00:00        58.295011    74.141760    0     0   HOLD  \n",
       "2021-05-26 21:00:00        57.576682    67.673109    0     0   HOLD  \n",
       "2021-05-26 22:00:00        57.934318    62.589246    0     0   HOLD  \n",
       "2021-05-26 23:00:00        58.389051    57.846837    0    -1   SELL  \n",
       "2021-05-27 00:00:00        58.804258    55.209097    0    -1   SELL  \n",
       "2021-05-27 01:00:00        58.840392    54.708143    0    -1   SELL  \n",
       "2021-05-27 02:00:00        58.346245    57.219816    0    -1   SELL  \n",
       "2021-05-27 03:00:00        57.781293    64.285478    0     0   HOLD  \n",
       "2021-05-27 04:00:00        57.794157    74.204812    1     0    BUY  \n",
       "2021-05-27 05:00:00        57.782657    80.221826    1     0    BUY  \n",
       "2021-05-27 06:00:00        57.806714    79.939656    1     0    BUY  \n",
       "2021-05-27 07:00:00        58.034223    75.049134    1     0    BUY  \n",
       "2021-05-27 08:00:00        58.208534    71.039190    0     0   HOLD  \n",
       "2021-05-27 09:00:00        58.626429    68.522924    0     0   HOLD  \n",
       "2021-05-27 10:00:00        59.277677    64.133845    0     0   HOLD  \n",
       "2021-05-27 11:00:00        60.033153    59.915339    0    -1   SELL  \n",
       "2021-05-27 12:00:00        60.568369    56.548601    0    -1   SELL  \n",
       "2021-05-27 13:00:00        61.042219    56.044690    0    -1   SELL  \n",
       "2021-05-27 14:00:00        61.059513    58.207403    0    -1   SELL  \n",
       "2021-05-27 15:00:00        60.890705    64.326371    0     0   HOLD  \n",
       "2021-05-27 16:00:00        60.890235    72.673452    0     0   HOLD  \n",
       "2021-05-27 17:00:00        60.915161    77.531713    1     0    BUY  \n",
       "2021-05-27 18:00:00        60.991402    78.244235    1     0    BUY  "
      ]
     },
     "execution_count": 183,
     "metadata": {},
     "output_type": "execute_result"
    }
   ],
   "source": [
    "results"
   ]
  },
  {
   "cell_type": "code",
   "execution_count": 206,
   "id": "afc27081",
   "metadata": {},
   "outputs": [],
   "source": [
    "results = pd.read_excel('results/20220920_213512/results.xlsx', index_col=0)"
   ]
  },
  {
   "cell_type": "code",
   "execution_count": 207,
   "id": "ce474ec2",
   "metadata": {},
   "outputs": [
    {
     "data": {
      "text/html": [
       "<div>\n",
       "<style scoped>\n",
       "    .dataframe tbody tr th:only-of-type {\n",
       "        vertical-align: middle;\n",
       "    }\n",
       "\n",
       "    .dataframe tbody tr th {\n",
       "        vertical-align: top;\n",
       "    }\n",
       "\n",
       "    .dataframe thead th {\n",
       "        text-align: right;\n",
       "    }\n",
       "</style>\n",
       "<table border=\"1\" class=\"dataframe\">\n",
       "  <thead>\n",
       "    <tr style=\"text-align: right;\">\n",
       "      <th></th>\n",
       "      <th>true_prices</th>\n",
       "      <th>mean</th>\n",
       "      <th>std</th>\n",
       "      <th>upper_bollinger</th>\n",
       "      <th>lower_bollinger</th>\n",
       "      <th>pred_prices</th>\n",
       "      <th>buy</th>\n",
       "      <th>sell</th>\n",
       "      <th>action</th>\n",
       "    </tr>\n",
       "  </thead>\n",
       "  <tbody>\n",
       "    <tr>\n",
       "      <th>2021-05-26 19:00:00</th>\n",
       "      <td>77.26</td>\n",
       "      <td>65.807391</td>\n",
       "      <td>11.174083</td>\n",
       "      <td>73.629250</td>\n",
       "      <td>57.985533</td>\n",
       "      <td>77.703895</td>\n",
       "      <td>0</td>\n",
       "      <td>-1</td>\n",
       "      <td>SELL</td>\n",
       "    </tr>\n",
       "    <tr>\n",
       "      <th>2021-05-26 20:00:00</th>\n",
       "      <td>75.28</td>\n",
       "      <td>66.237391</td>\n",
       "      <td>11.346258</td>\n",
       "      <td>74.179772</td>\n",
       "      <td>58.295011</td>\n",
       "      <td>74.141760</td>\n",
       "      <td>0</td>\n",
       "      <td>0</td>\n",
       "      <td>HOLD</td>\n",
       "    </tr>\n",
       "    <tr>\n",
       "      <th>2021-05-26 21:00:00</th>\n",
       "      <td>51.08</td>\n",
       "      <td>65.795217</td>\n",
       "      <td>11.740764</td>\n",
       "      <td>74.013752</td>\n",
       "      <td>57.576682</td>\n",
       "      <td>67.673109</td>\n",
       "      <td>0</td>\n",
       "      <td>0</td>\n",
       "      <td>HOLD</td>\n",
       "    </tr>\n",
       "    <tr>\n",
       "      <th>2021-05-26 22:00:00</th>\n",
       "      <td>60.13</td>\n",
       "      <td>66.028696</td>\n",
       "      <td>11.563396</td>\n",
       "      <td>74.123073</td>\n",
       "      <td>57.934318</td>\n",
       "      <td>62.589246</td>\n",
       "      <td>0</td>\n",
       "      <td>0</td>\n",
       "      <td>HOLD</td>\n",
       "    </tr>\n",
       "    <tr>\n",
       "      <th>2021-05-26 23:00:00</th>\n",
       "      <td>58.15</td>\n",
       "      <td>66.294783</td>\n",
       "      <td>11.293902</td>\n",
       "      <td>74.200514</td>\n",
       "      <td>58.389051</td>\n",
       "      <td>57.846837</td>\n",
       "      <td>1</td>\n",
       "      <td>0</td>\n",
       "      <td>BUY</td>\n",
       "    </tr>\n",
       "  </tbody>\n",
       "</table>\n",
       "</div>"
      ],
      "text/plain": [
       "                     true_prices       mean        std  upper_bollinger  \\\n",
       "2021-05-26 19:00:00        77.26  65.807391  11.174083        73.629250   \n",
       "2021-05-26 20:00:00        75.28  66.237391  11.346258        74.179772   \n",
       "2021-05-26 21:00:00        51.08  65.795217  11.740764        74.013752   \n",
       "2021-05-26 22:00:00        60.13  66.028696  11.563396        74.123073   \n",
       "2021-05-26 23:00:00        58.15  66.294783  11.293902        74.200514   \n",
       "\n",
       "                     lower_bollinger  pred_prices  buy  sell action  \n",
       "2021-05-26 19:00:00        57.985533    77.703895    0    -1   SELL  \n",
       "2021-05-26 20:00:00        58.295011    74.141760    0     0   HOLD  \n",
       "2021-05-26 21:00:00        57.576682    67.673109    0     0   HOLD  \n",
       "2021-05-26 22:00:00        57.934318    62.589246    0     0   HOLD  \n",
       "2021-05-26 23:00:00        58.389051    57.846837    1     0    BUY  "
      ]
     },
     "execution_count": 207,
     "metadata": {},
     "output_type": "execute_result"
    }
   ],
   "source": [
    "results.head()"
   ]
  },
  {
   "cell_type": "code",
   "execution_count": 208,
   "id": "d67eab2f",
   "metadata": {},
   "outputs": [
    {
     "data": {
      "image/png": "[encoded data removed]",
      "text/plain": [
       "<Figure size 864x360 with 1 Axes>"
      ]
     },
     "metadata": {
      "needs_background": "light"
     },
     "output_type": "display_data"
    }
   ],
   "source": [
    "plt.figure(figsize=(12,5))\n",
    "plt.xticks(rotation=45)\n",
    "\n",
    "plt.plot(results.index, results.true_prices, label = 'true prices')\n",
    "plt.plot(results.index, results.pred_prices, label = 'forecast prices')\n",
    "\n",
    "plt.plot(results.index, results[\"mean\"], label = '23_mean')\n",
    "plt.fill_between(results.index, results['upper_bollinger'], results['lower_bollinger'], label = 'Bollinger Bands', color='lightgrey')\n",
    "\n",
    "plt.scatter(results[(results['action'] == \"BUY\")].index, results[(results['action'] == \"BUY\")]['true_prices'], label = 'Buy', marker='v', c='g')\n",
    "plt.scatter(results[(results['action'] == \"SELL\")].index, results[(results['action'] == \"SELL\")]['true_prices'], label = 'Sell', marker='^', c='r')\n",
    "\n",
    "plt.title('Trade test', fontweight=\"bold\")\n",
    "plt.legend()\n",
    "plt.show()"
   ]
  },
  {
   "cell_type": "markdown",
   "id": "81bc0d6b",
   "metadata": {},
   "source": [
    "* alpha as signal saisonality coef"
   ]
  },
  {
   "cell_type": "code",
   "execution_count": 23,
   "id": "a0e5ec56",
   "metadata": {},
   "outputs": [
    {
     "data": {
      "text/plain": [
       "10950"
      ]
     },
     "execution_count": 23,
     "metadata": {},
     "output_type": "execute_result"
    }
   ],
   "source": [
    "365*30"
   ]
  },
  {
   "cell_type": "code",
   "execution_count": 24,
   "id": "0d5125c5",
   "metadata": {},
   "outputs": [
    {
     "data": {
      "text/plain": [
       "182.5"
      ]
     },
     "execution_count": 24,
     "metadata": {},
     "output_type": "execute_result"
    }
   ],
   "source": [
    "10950/60"
   ]
  },
  {
   "cell_type": "code",
   "execution_count": null,
   "id": "c47e56d0",
   "metadata": {},
   "outputs": [],
   "source": []
  }
 ],
 "metadata": {
  "kernelspec": {
   "display_name": "rhizome",
   "language": "python",
   "name": "rhizome"
  },
  "language_info": {
   "codemirror_mode": {
    "name": "ipython",
    "version": 3
   },
   "file_extension": ".py",
   "mimetype": "text/x-python",
   "name": "python",
   "nbconvert_exporter": "python",
   "pygments_lexer": "ipython3",
   "version": "3.9.12"
  }
 },
 "nbformat": 4,
 "nbformat_minor": 5
}
