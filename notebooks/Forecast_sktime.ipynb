{
 "cells": [
  {
   "cell_type": "code",
   "execution_count": 1,
   "id": "f0bfac36",
   "metadata": {},
   "outputs": [],
   "source": [
    "import numpy as np\n",
    "import pandas as pd\n",
    "import matplotlib.pyplot as plt\n",
    "from sklearn.metrics import mean_squared_error\n",
    "from statsmodels.tsa.arima.model import ARIMA\n",
    "from sklearn.metrics import mean_absolute_error\n",
    "from datetime import datetime"
   ]
  },
  {
   "cell_type": "code",
   "execution_count": 2,
   "id": "49257d15",
   "metadata": {},
   "outputs": [],
   "source": [
    "from typing import List"
   ]
  },
  {
   "cell_type": "code",
   "execution_count": 3,
   "id": "bd64701e",
   "metadata": {},
   "outputs": [],
   "source": [
    "import os\n",
    "import glob"
   ]
  },
  {
   "cell_type": "code",
   "execution_count": 4,
   "id": "cf47655d",
   "metadata": {},
   "outputs": [],
   "source": [
    "from src.io.load import DataLoader"
   ]
  },
  {
   "cell_type": "code",
   "execution_count": 5,
   "id": "b9d502d2",
   "metadata": {},
   "outputs": [],
   "source": [
    "from abc import ABC, abstractmethod"
   ]
  },
  {
   "cell_type": "code",
   "execution_count": 6,
   "id": "b65ac193",
   "metadata": {},
   "outputs": [],
   "source": [
    "from sktime.datasets import load_airline\n",
    "from sktime.forecasting.base import ForecastingHorizon\n",
    "from sktime.forecasting.naive import NaiveForecaster"
   ]
  },
  {
   "cell_type": "code",
   "execution_count": 7,
   "id": "2da8f8a1",
   "metadata": {},
   "outputs": [],
   "source": [
    "from src.preprocessing.preprocess import ProcessData\n",
    "from src.main import load_data"
   ]
  },
  {
   "cell_type": "code",
   "execution_count": 8,
   "id": "9916420a",
   "metadata": {},
   "outputs": [],
   "source": [
    "import os\n",
    "os.chdir(os.path.dirname(os.getcwd()))"
   ]
  },
  {
   "cell_type": "markdown",
   "id": "7f540e02",
   "metadata": {},
   "source": [
    "## Load data"
   ]
  },
  {
   "cell_type": "code",
   "execution_count": 9,
   "id": "740fb900",
   "metadata": {},
   "outputs": [],
   "source": [
    "market_name = \"germany\"\n",
    "\n",
    "prices = load_data(market_name)\n",
    "prices = ProcessData(df=prices).run_preprocess()"
   ]
  },
  {
   "cell_type": "code",
   "execution_count": 10,
   "id": "76514c3f",
   "metadata": {},
   "outputs": [
    {
     "data": {
      "text/plain": [
       "time\n",
       "2019-01-01 00:00:00    10.07\n",
       "2019-01-01 01:00:00    -4.08\n",
       "2019-01-01 02:00:00    -9.91\n",
       "2019-01-01 03:00:00    -7.41\n",
       "2019-01-01 04:00:00   -12.55\n",
       "                       ...  \n",
       "2021-12-31 19:00:00     0.18\n",
       "2021-12-31 20:00:00     0.08\n",
       "2021-12-31 21:00:00     5.10\n",
       "2021-12-31 22:00:00     6.32\n",
       "2021-12-31 23:00:00    50.05\n",
       "Freq: H, Name: value, Length: 26304, dtype: float64"
      ]
     },
     "execution_count": 10,
     "metadata": {},
     "output_type": "execute_result"
    }
   ],
   "source": [
    "prices"
   ]
  },
  {
   "cell_type": "code",
   "execution_count": 21,
   "id": "5921259f",
   "metadata": {},
   "outputs": [],
   "source": [
    "hour_begin_trade = \"13\"\n",
    "\n",
    "window_predict = {\n",
    "    \"date_start\":\"01-01-2020\", \n",
    "    \"date_end\":\"03-01-2017\"\n",
    "    }\n",
    "dt =  datetime.strptime(' '.join([window_predict[\"date_start\"], hour_begin_trade]), \"%d-%m-%Y %H\")"
   ]
  },
  {
   "cell_type": "code",
   "execution_count": 23,
   "id": "728dd255",
   "metadata": {},
   "outputs": [
    {
     "data": {
      "text/plain": [
       "datetime.datetime(2020, 1, 1, 13, 0)"
      ]
     },
     "execution_count": 23,
     "metadata": {},
     "output_type": "execute_result"
    }
   ],
   "source": [
    "dt"
   ]
  },
  {
   "cell_type": "code",
   "execution_count": 24,
   "id": "0592c715",
   "metadata": {},
   "outputs": [
    {
     "data": {
      "text/plain": [
       "time\n",
       "2020-01-01 13:00:00    30.75\n",
       "2020-01-01 14:00:00    32.11\n",
       "2020-01-01 15:00:00    35.98\n",
       "2020-01-01 16:00:00    40.40\n",
       "2020-01-01 17:00:00    44.05\n",
       "                       ...  \n",
       "2021-12-31 19:00:00     0.18\n",
       "2021-12-31 20:00:00     0.08\n",
       "2021-12-31 21:00:00     5.10\n",
       "2021-12-31 22:00:00     6.32\n",
       "2021-12-31 23:00:00    50.05\n",
       "Freq: H, Name: value, Length: 17531, dtype: float64"
      ]
     },
     "execution_count": 24,
     "metadata": {},
     "output_type": "execute_result"
    }
   ],
   "source": [
    "prices.loc[dt:]"
   ]
  },
  {
   "cell_type": "code",
   "execution_count": 14,
   "id": "ee797364",
   "metadata": {},
   "outputs": [],
   "source": [
    "idx_train = int(len(prices)*0.8)\n",
    "x_train = prices[:idx_train]"
   ]
  },
  {
   "cell_type": "code",
   "execution_count": 15,
   "id": "851512bb",
   "metadata": {},
   "outputs": [],
   "source": [
    "from sktime.forecasting.ets import AutoETS\n",
    "from sktime.forecasting.arima import AutoARIMA\n",
    "from sktime.utils.plotting import plot_series"
   ]
  },
  {
   "cell_type": "code",
   "execution_count": 16,
   "id": "9bc29235",
   "metadata": {},
   "outputs": [],
   "source": [
    "from sktime.forecasting.exp_smoothing import ExponentialSmoothing\n"
   ]
  },
  {
   "cell_type": "code",
   "execution_count": 113,
   "id": "ff74ba68",
   "metadata": {},
   "outputs": [],
   "source": [
    "forecaster = AutoETS(auto=True, n_jobs=-1, sp=12)"
   ]
  },
  {
   "cell_type": "code",
   "execution_count": 84,
   "id": "cf4532b7",
   "metadata": {},
   "outputs": [],
   "source": [
    "forecaster = AutoARIMA(sp=12, suppress_warnings=True)"
   ]
  },
  {
   "cell_type": "code",
   "execution_count": 43,
   "id": "7887c5e6",
   "metadata": {},
   "outputs": [],
   "source": [
    "forecaster = ExponentialSmoothing(trend=\"add\", seasonal=\"additive\", sp=12)\n"
   ]
  },
  {
   "cell_type": "code",
   "execution_count": null,
   "id": "c97a04f1",
   "metadata": {},
   "outputs": [
    {
     "name": "stderr",
     "output_type": "stream",
     "text": [
      "/home/martin/miniconda3/envs/rhizome/lib/python3.9/site-packages/sktime/forecasting/ets.py:248: UserWarning: Warning: time series is not strictly positive,multiplicative components are ommitted\n",
      "  warnings.warn(\n"
     ]
    }
   ],
   "source": [
    "forecaster.fit(x_train[:2000])"
   ]
  },
  {
   "cell_type": "code",
   "execution_count": 85,
   "id": "4c31c5af",
   "metadata": {},
   "outputs": [
    {
     "data": {
      "text/plain": [
       "AutoARIMA(sp=12, suppress_warnings=True)"
      ]
     },
     "execution_count": 85,
     "metadata": {},
     "output_type": "execute_result"
    }
   ],
   "source": [
    "forecaster.fit(x_train[:2000])"
   ]
  },
  {
   "cell_type": "code",
   "execution_count": 44,
   "id": "5ba15bb2",
   "metadata": {},
   "outputs": [
    {
     "data": {
      "text/plain": [
       "ExponentialSmoothing(seasonal='additive', sp=12, trend='add')"
      ]
     },
     "execution_count": 44,
     "metadata": {},
     "output_type": "execute_result"
    }
   ],
   "source": [
    "forecaster.fit(x_train[:2000])"
   ]
  },
  {
   "cell_type": "code",
   "execution_count": 86,
   "id": "ff1f4532",
   "metadata": {},
   "outputs": [
    {
     "name": "stderr",
     "output_type": "stream",
     "text": [
      "/home/martin/miniconda3/envs/rhizome/lib/python3.9/site-packages/sktime/forecasting/base/_fh.py:565: FutureWarning: Timestamp.freqstr is deprecated and will be removed in a future version.\n",
      "  cutoff = _coerce_to_period(cutoff, freq=cutoff.freqstr)\n"
     ]
    }
   ],
   "source": [
    "y_pred_arima = forecaster.predict(fh=np.arange(1, 25))"
   ]
  },
  {
   "cell_type": "code",
   "execution_count": 115,
   "id": "6d5eadd0",
   "metadata": {},
   "outputs": [
    {
     "name": "stderr",
     "output_type": "stream",
     "text": [
      "/home/martin/miniconda3/envs/rhizome/lib/python3.9/site-packages/sktime/utils/datetime.py:80: FutureWarning: Timestamp.freqstr is deprecated and will be removed in a future version.\n",
      "  if hasattr(x, \"freqstr\"):\n",
      "/home/martin/miniconda3/envs/rhizome/lib/python3.9/site-packages/sktime/utils/datetime.py:81: FutureWarning: Timestamp.freqstr is deprecated and will be removed in a future version.\n",
      "  if x.freqstr is None:\n",
      "/home/martin/miniconda3/envs/rhizome/lib/python3.9/site-packages/sktime/utils/datetime.py:83: FutureWarning: Timestamp.freqstr is deprecated and will be removed in a future version.\n",
      "  elif \"-\" in x.freqstr:\n",
      "/home/martin/miniconda3/envs/rhizome/lib/python3.9/site-packages/sktime/utils/datetime.py:86: FutureWarning: Timestamp.freqstr is deprecated and will be removed in a future version.\n",
      "  return x.freqstr\n",
      "/home/martin/miniconda3/envs/rhizome/lib/python3.9/site-packages/sktime/forecasting/base/_fh.py:565: FutureWarning: Timestamp.freqstr is deprecated and will be removed in a future version.\n",
      "  cutoff = _coerce_to_period(cutoff, freq=cutoff.freqstr)\n"
     ]
    }
   ],
   "source": [
    "y_pred_ets = forecaster.predict(fh=np.arange(1, 25))"
   ]
  },
  {
   "cell_type": "code",
   "execution_count": 45,
   "id": "be764b53",
   "metadata": {},
   "outputs": [
    {
     "name": "stderr",
     "output_type": "stream",
     "text": [
      "/home/martin/miniconda3/envs/rhizome/lib/python3.9/site-packages/sktime/utils/datetime.py:80: FutureWarning: Timestamp.freqstr is deprecated and will be removed in a future version.\n",
      "  if hasattr(x, \"freqstr\"):\n",
      "/home/martin/miniconda3/envs/rhizome/lib/python3.9/site-packages/sktime/utils/datetime.py:81: FutureWarning: Timestamp.freqstr is deprecated and will be removed in a future version.\n",
      "  if x.freqstr is None:\n",
      "/home/martin/miniconda3/envs/rhizome/lib/python3.9/site-packages/sktime/utils/datetime.py:83: FutureWarning: Timestamp.freqstr is deprecated and will be removed in a future version.\n",
      "  elif \"-\" in x.freqstr:\n",
      "/home/martin/miniconda3/envs/rhizome/lib/python3.9/site-packages/sktime/utils/datetime.py:86: FutureWarning: Timestamp.freqstr is deprecated and will be removed in a future version.\n",
      "  return x.freqstr\n",
      "/home/martin/miniconda3/envs/rhizome/lib/python3.9/site-packages/sktime/forecasting/base/_fh.py:565: FutureWarning: Timestamp.freqstr is deprecated and will be removed in a future version.\n",
      "  cutoff = _coerce_to_period(cutoff, freq=cutoff.freqstr)\n"
     ]
    }
   ],
   "source": [
    "y_pred_exp = forecaster.predict(fh=np.arange(1, 25))"
   ]
  },
  {
   "cell_type": "code",
   "execution_count": 117,
   "id": "22dee5b4",
   "metadata": {},
   "outputs": [
    {
     "data": {
      "text/plain": [
       "(<Figure size 1152x288 with 1 Axes>, <AxesSubplot:ylabel='value'>)"
      ]
     },
     "execution_count": 117,
     "metadata": {},
     "output_type": "execute_result"
    },
    {
     "data": {
      "text/plain": [
       "<Figure size 1080x504 with 0 Axes>"
      ]
     },
     "metadata": {},
     "output_type": "display_data"
    },
    {
     "data": {
      "image/png": "[encoded data removed]",
      "text/plain": [
       "<Figure size 1152x288 with 1 Axes>"
      ]
     },
     "metadata": {
      "needs_background": "light"
     },
     "output_type": "display_data"
    }
   ],
   "source": [
    "plt.figure(figsize=(15,7))\n",
    "plot_series(x_train[2000:2024], \n",
    "            y_pred_arima, \n",
    "            y_pred_ets,\n",
    "            y_pred_exp,\n",
    "            y_pred_arima_rhi,\n",
    "            labels=[\"true\", \"arima\", \"ets\", 'exp_smooth', 'current_forecast'])"
   ]
  },
  {
   "cell_type": "code",
   "execution_count": 47,
   "id": "2911a76e",
   "metadata": {},
   "outputs": [
    {
     "name": "stderr",
     "output_type": "stream",
     "text": [
      "/home/martin/miniconda3/envs/rhizome/lib/python3.9/site-packages/sktime/forecasting/base/_base.py:1640: UserWarning: NotImplementedWarning: ExponentialSmoothing does not have a custom `update` method implemented. ExponentialSmoothing will be refit each time `update` is called with update_params=True.\n",
      "  warn(\n"
     ]
    },
    {
     "data": {
      "text/plain": [
       "ExponentialSmoothing(seasonal='additive', sp=12, trend='add')"
      ]
     },
     "execution_count": 47,
     "metadata": {},
     "output_type": "execute_result"
    }
   ],
   "source": [
    "new_y = x_train[2000:2024]\n",
    "forecaster.update(new_y)\n"
   ]
  },
  {
   "cell_type": "code",
   "execution_count": 49,
   "id": "37d5a3b3",
   "metadata": {},
   "outputs": [
    {
     "data": {
      "text/plain": [
       "time\n",
       "2019-03-25 06:00:00    38.39\n",
       "2019-03-25 07:00:00    39.17\n",
       "Freq: H, Name: value, dtype: float64"
      ]
     },
     "execution_count": 49,
     "metadata": {},
     "output_type": "execute_result"
    }
   ],
   "source": [
    "x_train[1998:2000]"
   ]
  },
  {
   "cell_type": "code",
   "execution_count": 53,
   "id": "18cf4ef7",
   "metadata": {},
   "outputs": [],
   "source": [
    "from sklearn.neighbors import KNeighborsRegressor\n",
    "from sktime.forecasting.compose import make_reduction\n"
   ]
  },
  {
   "cell_type": "code",
   "execution_count": 59,
   "id": "8262a77c",
   "metadata": {},
   "outputs": [
    {
     "name": "stderr",
     "output_type": "stream",
     "text": [
      "/home/martin/miniconda3/envs/rhizome/lib/python3.9/site-packages/sktime/utils/datetime.py:108: FutureWarning: Timestamp.freq is deprecated and will be removed in a future version.\n",
      "  if not hasattr(x, \"freq\") or x.freq is None:\n",
      "/home/martin/miniconda3/envs/rhizome/lib/python3.9/site-packages/sktime/utils/datetime.py:110: FutureWarning: Timestamp.freq is deprecated and will be removed in a future version.\n",
      "  by *= x.freq\n",
      "/home/martin/miniconda3/envs/rhizome/lib/python3.9/site-packages/sktime/forecasting/base/_fh.py:565: FutureWarning: Timestamp.freqstr is deprecated and will be removed in a future version.\n",
      "  cutoff = _coerce_to_period(cutoff, freq=cutoff.freqstr)\n"
     ]
    }
   ],
   "source": [
    "regressor = KNeighborsRegressor(n_neighbors=1)\n",
    "forecaster = make_reduction(regressor, window_length=24, strategy=\"recursive\")\n",
    "forecaster.fit(x_train[:2000])\n",
    "y_pred_knn = forecaster.predict(np.arange(1, 25))"
   ]
  },
  {
   "cell_type": "code",
   "execution_count": null,
   "id": "ea9a0fa0",
   "metadata": {},
   "outputs": [],
   "source": []
  },
  {
   "cell_type": "code",
   "execution_count": 42,
   "id": "7a7c1bc0",
   "metadata": {},
   "outputs": [],
   "source": [
    "from src.forecast.factory import ModelForecastFactory\n"
   ]
  },
  {
   "cell_type": "code",
   "execution_count": 69,
   "id": "a4b92ed5",
   "metadata": {},
   "outputs": [],
   "source": [
    "model_forecast = ModelForecastFactory().get_model(**{\n",
    "                                        \"name\":\"arima\",\n",
    "                                        \"order\":dict(p=24, d=1, q=0),\n",
    "                                        \"seasonal_order\":None,\n",
    "                                        })"
   ]
  },
  {
   "cell_type": "code",
   "execution_count": 71,
   "id": "0b42e162",
   "metadata": {},
   "outputs": [],
   "source": [
    "model_forecast.train_model(x_train[:2000])\n",
    "y_pred_arima_rhi = model_forecast.forecast(n_frames=24)"
   ]
  },
  {
   "cell_type": "code",
   "execution_count": null,
   "id": "3356a42a",
   "metadata": {},
   "outputs": [],
   "source": []
  },
  {
   "cell_type": "markdown",
   "id": "aa27d58a",
   "metadata": {},
   "source": [
    "## Other"
   ]
  },
  {
   "cell_type": "code",
   "execution_count": 50,
   "id": "63789180",
   "metadata": {},
   "outputs": [
    {
     "name": "stderr",
     "output_type": "stream",
     "text": [
      "ERROR:prophet.plot:Importing plotly failed. Interactive plots will not work.\n"
     ]
    }
   ],
   "source": [
    "from sktime.forecasting.fbprophet import Prophet"
   ]
  },
  {
   "cell_type": "code",
   "execution_count": null,
   "id": "d96a1817",
   "metadata": {},
   "outputs": [],
   "source": [
    "forecaster = Prophet(\n",
    "    seasonality_mode=\"multiplicative\",\n",
    "    n_changepoints=int(len(y_train) / 12),\n",
    "    add_country_holidays={\"country_name\": \"Germany\"},\n",
    "    yearly_seasonality=True,\n",
    "    weekly_seasonality=False,\n",
    "    daily_seasonality=False,\n",
    ")"
   ]
  },
  {
   "cell_type": "markdown",
   "id": "48d35e01",
   "metadata": {},
   "source": [
    "## Evaluate"
   ]
  },
  {
   "cell_type": "code",
   "execution_count": 59,
   "id": "8bb91d6b",
   "metadata": {},
   "outputs": [],
   "source": [
    "from sktime.forecasting.all import mean_squared_error, mean_absolute_error\n",
    "from tqdm import tqdm"
   ]
  },
  {
   "cell_type": "code",
   "execution_count": 116,
   "id": "b9e94b49",
   "metadata": {},
   "outputs": [
    {
     "name": "stdout",
     "output_type": "stream",
     "text": [
      "17.86420774781494\n",
      "17.62854282916496\n",
      "13.59640956315477\n",
      "19.809578686154325\n"
     ]
    }
   ],
   "source": [
    "y = x_train[2000:2024]\n",
    "print(mean_squared_error(y, y_pred_arima))\n",
    "print(mean_squared_error(y, y_pred_ets))\n",
    "print(mean_squared_error(y, y_pred_exp))\n",
    "print(mean_squared_error(y, y_pred_arima_rhi))\n"
   ]
  },
  {
   "cell_type": "code",
   "execution_count": null,
   "id": "ea43b169",
   "metadata": {},
   "outputs": [],
   "source": [
    "x_train[1980:2024], y_pred, y_pred_ets,y_pred_exp"
   ]
  },
  {
   "cell_type": "code",
   "execution_count": 19,
   "id": "77e6bfc4",
   "metadata": {},
   "outputs": [],
   "source": [
    "n_frames = 24\n",
    "\n",
    "date_start = \"03-01-2020\"\n",
    "date_end = \"03-30-2020\"\n",
    "\n",
    "date_start = pd.to_datetime(date_start)\n",
    "date_end = pd.to_datetime(date_end)\n",
    "\n",
    "n_frames_t = pd.Timedelta(hours=n_frames)\n",
    "\n",
    "period = (date_end - date_start).days"
   ]
  },
  {
   "cell_type": "code",
   "execution_count": 20,
   "id": "f33521b3",
   "metadata": {},
   "outputs": [
    {
     "data": {
      "text/plain": [
       "29"
      ]
     },
     "execution_count": 20,
     "metadata": {},
     "output_type": "execute_result"
    }
   ],
   "source": [
    "period"
   ]
  },
  {
   "cell_type": "code",
   "execution_count": 21,
   "id": "a9584fed",
   "metadata": {},
   "outputs": [],
   "source": [
    "split = date_start + 2*n_frames_t\n"
   ]
  },
  {
   "cell_type": "code",
   "execution_count": 27,
   "id": "eb0917a5",
   "metadata": {},
   "outputs": [
    {
     "data": {
      "text/plain": [
       "-3.88"
      ]
     },
     "execution_count": 27,
     "metadata": {},
     "output_type": "execute_result"
    }
   ],
   "source": [
    "prices.loc[date_start]"
   ]
  },
  {
   "cell_type": "markdown",
   "id": "7d8d0805",
   "metadata": {},
   "source": [
    "https://www.sktime.org/en/stable/examples/01_forecasting.html"
   ]
  },
  {
   "cell_type": "markdown",
   "id": "441ef537",
   "metadata": {},
   "source": [
    "## AutoETS"
   ]
  },
  {
   "cell_type": "code",
   "execution_count": 53,
   "id": "15a0f060",
   "metadata": {},
   "outputs": [
    {
     "name": "stderr",
     "output_type": "stream",
     "text": [
      "  0%|                                                                                                                                                        | 0/28 [00:00<?, ?it/s]/home/martin/miniconda3/envs/rhizome/lib/python3.9/site-packages/sktime/utils/datetime.py:80: FutureWarning: Timestamp.freqstr is deprecated and will be removed in a future version.\n",
      "  if hasattr(x, \"freqstr\"):\n",
      "/home/martin/miniconda3/envs/rhizome/lib/python3.9/site-packages/sktime/utils/datetime.py:81: FutureWarning: Timestamp.freqstr is deprecated and will be removed in a future version.\n",
      "  if x.freqstr is None:\n",
      "/home/martin/miniconda3/envs/rhizome/lib/python3.9/site-packages/sktime/utils/datetime.py:83: FutureWarning: Timestamp.freqstr is deprecated and will be removed in a future version.\n",
      "  elif \"-\" in x.freqstr:\n",
      "/home/martin/miniconda3/envs/rhizome/lib/python3.9/site-packages/sktime/utils/datetime.py:86: FutureWarning: Timestamp.freqstr is deprecated and will be removed in a future version.\n",
      "  return x.freqstr\n",
      "/home/martin/miniconda3/envs/rhizome/lib/python3.9/site-packages/sktime/forecasting/base/_fh.py:565: FutureWarning: Timestamp.freqstr is deprecated and will be removed in a future version.\n",
      "  cutoff = _coerce_to_period(cutoff, freq=cutoff.freqstr)\n",
      "  4%|█████▏                                                                                                                                          | 1/28 [00:07<03:12,  7.13s/it]/home/martin/miniconda3/envs/rhizome/lib/python3.9/site-packages/sktime/forecasting/ets.py:248: UserWarning: Warning: time series is not strictly positive,multiplicative components are ommitted\n",
      "  warnings.warn(\n",
      "/home/martin/miniconda3/envs/rhizome/lib/python3.9/site-packages/sktime/utils/datetime.py:80: FutureWarning: Timestamp.freqstr is deprecated and will be removed in a future version.\n",
      "  if hasattr(x, \"freqstr\"):\n",
      "/home/martin/miniconda3/envs/rhizome/lib/python3.9/site-packages/sktime/utils/datetime.py:81: FutureWarning: Timestamp.freqstr is deprecated and will be removed in a future version.\n",
      "  if x.freqstr is None:\n",
      "/home/martin/miniconda3/envs/rhizome/lib/python3.9/site-packages/sktime/utils/datetime.py:83: FutureWarning: Timestamp.freqstr is deprecated and will be removed in a future version.\n",
      "  elif \"-\" in x.freqstr:\n",
      "/home/martin/miniconda3/envs/rhizome/lib/python3.9/site-packages/sktime/utils/datetime.py:86: FutureWarning: Timestamp.freqstr is deprecated and will be removed in a future version.\n",
      "  return x.freqstr\n",
      "/home/martin/miniconda3/envs/rhizome/lib/python3.9/site-packages/sktime/forecasting/base/_fh.py:565: FutureWarning: Timestamp.freqstr is deprecated and will be removed in a future version.\n",
      "  cutoff = _coerce_to_period(cutoff, freq=cutoff.freqstr)\n",
      "  7%|██████████▎                                                                                                                                     | 2/28 [00:11<02:26,  5.65s/it]/home/martin/miniconda3/envs/rhizome/lib/python3.9/site-packages/sktime/forecasting/ets.py:248: UserWarning: Warning: time series is not strictly positive,multiplicative components are ommitted\n",
      "  warnings.warn(\n",
      "/home/martin/miniconda3/envs/rhizome/lib/python3.9/site-packages/sktime/utils/datetime.py:80: FutureWarning: Timestamp.freqstr is deprecated and will be removed in a future version.\n",
      "  if hasattr(x, \"freqstr\"):\n",
      "/home/martin/miniconda3/envs/rhizome/lib/python3.9/site-packages/sktime/utils/datetime.py:81: FutureWarning: Timestamp.freqstr is deprecated and will be removed in a future version.\n",
      "  if x.freqstr is None:\n",
      "/home/martin/miniconda3/envs/rhizome/lib/python3.9/site-packages/sktime/utils/datetime.py:83: FutureWarning: Timestamp.freqstr is deprecated and will be removed in a future version.\n",
      "  elif \"-\" in x.freqstr:\n",
      "/home/martin/miniconda3/envs/rhizome/lib/python3.9/site-packages/sktime/utils/datetime.py:86: FutureWarning: Timestamp.freqstr is deprecated and will be removed in a future version.\n",
      "  return x.freqstr\n",
      "/home/martin/miniconda3/envs/rhizome/lib/python3.9/site-packages/sktime/forecasting/base/_fh.py:565: FutureWarning: Timestamp.freqstr is deprecated and will be removed in a future version.\n",
      "  cutoff = _coerce_to_period(cutoff, freq=cutoff.freqstr)\n",
      " 11%|███████████████▍                                                                                                                                | 3/28 [00:13<01:39,  3.99s/it]/home/martin/miniconda3/envs/rhizome/lib/python3.9/site-packages/sktime/forecasting/ets.py:248: UserWarning: Warning: time series is not strictly positive,multiplicative components are ommitted\n",
      "  warnings.warn(\n",
      "/home/martin/miniconda3/envs/rhizome/lib/python3.9/site-packages/sktime/utils/datetime.py:80: FutureWarning: Timestamp.freqstr is deprecated and will be removed in a future version.\n",
      "  if hasattr(x, \"freqstr\"):\n",
      "/home/martin/miniconda3/envs/rhizome/lib/python3.9/site-packages/sktime/utils/datetime.py:81: FutureWarning: Timestamp.freqstr is deprecated and will be removed in a future version.\n",
      "  if x.freqstr is None:\n",
      "/home/martin/miniconda3/envs/rhizome/lib/python3.9/site-packages/sktime/utils/datetime.py:83: FutureWarning: Timestamp.freqstr is deprecated and will be removed in a future version.\n",
      "  elif \"-\" in x.freqstr:\n",
      "/home/martin/miniconda3/envs/rhizome/lib/python3.9/site-packages/sktime/utils/datetime.py:86: FutureWarning: Timestamp.freqstr is deprecated and will be removed in a future version.\n",
      "  return x.freqstr\n",
      "/home/martin/miniconda3/envs/rhizome/lib/python3.9/site-packages/sktime/forecasting/base/_fh.py:565: FutureWarning: Timestamp.freqstr is deprecated and will be removed in a future version.\n",
      "  cutoff = _coerce_to_period(cutoff, freq=cutoff.freqstr)\n",
      " 14%|████████████████████▌                                                                                                                           | 4/28 [00:16<01:26,  3.59s/it]/home/martin/miniconda3/envs/rhizome/lib/python3.9/site-packages/sktime/forecasting/ets.py:248: UserWarning: Warning: time series is not strictly positive,multiplicative components are ommitted\n",
      "  warnings.warn(\n",
      "/home/martin/miniconda3/envs/rhizome/lib/python3.9/site-packages/sktime/utils/datetime.py:80: FutureWarning: Timestamp.freqstr is deprecated and will be removed in a future version.\n",
      "  if hasattr(x, \"freqstr\"):\n",
      "/home/martin/miniconda3/envs/rhizome/lib/python3.9/site-packages/sktime/utils/datetime.py:81: FutureWarning: Timestamp.freqstr is deprecated and will be removed in a future version.\n",
      "  if x.freqstr is None:\n",
      "/home/martin/miniconda3/envs/rhizome/lib/python3.9/site-packages/sktime/utils/datetime.py:83: FutureWarning: Timestamp.freqstr is deprecated and will be removed in a future version.\n",
      "  elif \"-\" in x.freqstr:\n",
      "/home/martin/miniconda3/envs/rhizome/lib/python3.9/site-packages/sktime/utils/datetime.py:86: FutureWarning: Timestamp.freqstr is deprecated and will be removed in a future version.\n",
      "  return x.freqstr\n",
      "/home/martin/miniconda3/envs/rhizome/lib/python3.9/site-packages/sktime/forecasting/base/_fh.py:565: FutureWarning: Timestamp.freqstr is deprecated and will be removed in a future version.\n",
      "  cutoff = _coerce_to_period(cutoff, freq=cutoff.freqstr)\n",
      " 18%|█████████████████████████▋                                                                                                                      | 5/28 [00:21<01:30,  3.95s/it]/home/martin/miniconda3/envs/rhizome/lib/python3.9/site-packages/sktime/forecasting/ets.py:248: UserWarning: Warning: time series is not strictly positive,multiplicative components are ommitted\n",
      "  warnings.warn(\n",
      "/home/martin/miniconda3/envs/rhizome/lib/python3.9/site-packages/sktime/utils/datetime.py:80: FutureWarning: Timestamp.freqstr is deprecated and will be removed in a future version.\n",
      "  if hasattr(x, \"freqstr\"):\n",
      "/home/martin/miniconda3/envs/rhizome/lib/python3.9/site-packages/sktime/utils/datetime.py:81: FutureWarning: Timestamp.freqstr is deprecated and will be removed in a future version.\n",
      "  if x.freqstr is None:\n",
      "/home/martin/miniconda3/envs/rhizome/lib/python3.9/site-packages/sktime/utils/datetime.py:83: FutureWarning: Timestamp.freqstr is deprecated and will be removed in a future version.\n",
      "  elif \"-\" in x.freqstr:\n",
      "/home/martin/miniconda3/envs/rhizome/lib/python3.9/site-packages/sktime/utils/datetime.py:86: FutureWarning: Timestamp.freqstr is deprecated and will be removed in a future version.\n",
      "  return x.freqstr\n",
      "/home/martin/miniconda3/envs/rhizome/lib/python3.9/site-packages/sktime/forecasting/base/_fh.py:565: FutureWarning: Timestamp.freqstr is deprecated and will be removed in a future version.\n",
      "  cutoff = _coerce_to_period(cutoff, freq=cutoff.freqstr)\n"
     ]
    },
    {
     "name": "stderr",
     "output_type": "stream",
     "text": [
      " 21%|██████████████████████████████▊                                                                                                                 | 6/28 [00:25<01:27,  3.97s/it]/home/martin/miniconda3/envs/rhizome/lib/python3.9/site-packages/sktime/forecasting/ets.py:248: UserWarning: Warning: time series is not strictly positive,multiplicative components are ommitted\n",
      "  warnings.warn(\n",
      "/home/martin/miniconda3/envs/rhizome/lib/python3.9/site-packages/sktime/utils/datetime.py:80: FutureWarning: Timestamp.freqstr is deprecated and will be removed in a future version.\n",
      "  if hasattr(x, \"freqstr\"):\n",
      "/home/martin/miniconda3/envs/rhizome/lib/python3.9/site-packages/sktime/utils/datetime.py:81: FutureWarning: Timestamp.freqstr is deprecated and will be removed in a future version.\n",
      "  if x.freqstr is None:\n",
      "/home/martin/miniconda3/envs/rhizome/lib/python3.9/site-packages/sktime/utils/datetime.py:83: FutureWarning: Timestamp.freqstr is deprecated and will be removed in a future version.\n",
      "  elif \"-\" in x.freqstr:\n",
      "/home/martin/miniconda3/envs/rhizome/lib/python3.9/site-packages/sktime/utils/datetime.py:86: FutureWarning: Timestamp.freqstr is deprecated and will be removed in a future version.\n",
      "  return x.freqstr\n",
      "/home/martin/miniconda3/envs/rhizome/lib/python3.9/site-packages/sktime/forecasting/base/_fh.py:565: FutureWarning: Timestamp.freqstr is deprecated and will be removed in a future version.\n",
      "  cutoff = _coerce_to_period(cutoff, freq=cutoff.freqstr)\n",
      " 25%|████████████████████████████████████                                                                                                            | 7/28 [00:29<01:21,  3.90s/it]/home/martin/miniconda3/envs/rhizome/lib/python3.9/site-packages/sktime/forecasting/ets.py:248: UserWarning: Warning: time series is not strictly positive,multiplicative components are ommitted\n",
      "  warnings.warn(\n",
      "/home/martin/miniconda3/envs/rhizome/lib/python3.9/site-packages/sktime/utils/datetime.py:80: FutureWarning: Timestamp.freqstr is deprecated and will be removed in a future version.\n",
      "  if hasattr(x, \"freqstr\"):\n",
      "/home/martin/miniconda3/envs/rhizome/lib/python3.9/site-packages/sktime/utils/datetime.py:81: FutureWarning: Timestamp.freqstr is deprecated and will be removed in a future version.\n",
      "  if x.freqstr is None:\n",
      "/home/martin/miniconda3/envs/rhizome/lib/python3.9/site-packages/sktime/utils/datetime.py:83: FutureWarning: Timestamp.freqstr is deprecated and will be removed in a future version.\n",
      "  elif \"-\" in x.freqstr:\n",
      "/home/martin/miniconda3/envs/rhizome/lib/python3.9/site-packages/sktime/utils/datetime.py:86: FutureWarning: Timestamp.freqstr is deprecated and will be removed in a future version.\n",
      "  return x.freqstr\n",
      "/home/martin/miniconda3/envs/rhizome/lib/python3.9/site-packages/sktime/forecasting/base/_fh.py:565: FutureWarning: Timestamp.freqstr is deprecated and will be removed in a future version.\n",
      "  cutoff = _coerce_to_period(cutoff, freq=cutoff.freqstr)\n",
      " 29%|█████████████████████████████████████████▏                                                                                                      | 8/28 [00:31<01:06,  3.33s/it]/home/martin/miniconda3/envs/rhizome/lib/python3.9/site-packages/sktime/forecasting/ets.py:248: UserWarning: Warning: time series is not strictly positive,multiplicative components are ommitted\n",
      "  warnings.warn(\n",
      "/home/martin/miniconda3/envs/rhizome/lib/python3.9/site-packages/sktime/utils/datetime.py:80: FutureWarning: Timestamp.freqstr is deprecated and will be removed in a future version.\n",
      "  if hasattr(x, \"freqstr\"):\n",
      "/home/martin/miniconda3/envs/rhizome/lib/python3.9/site-packages/sktime/utils/datetime.py:81: FutureWarning: Timestamp.freqstr is deprecated and will be removed in a future version.\n",
      "  if x.freqstr is None:\n",
      "/home/martin/miniconda3/envs/rhizome/lib/python3.9/site-packages/sktime/utils/datetime.py:83: FutureWarning: Timestamp.freqstr is deprecated and will be removed in a future version.\n",
      "  elif \"-\" in x.freqstr:\n",
      "/home/martin/miniconda3/envs/rhizome/lib/python3.9/site-packages/sktime/utils/datetime.py:86: FutureWarning: Timestamp.freqstr is deprecated and will be removed in a future version.\n",
      "  return x.freqstr\n",
      "/home/martin/miniconda3/envs/rhizome/lib/python3.9/site-packages/sktime/forecasting/base/_fh.py:565: FutureWarning: Timestamp.freqstr is deprecated and will be removed in a future version.\n",
      "  cutoff = _coerce_to_period(cutoff, freq=cutoff.freqstr)\n",
      " 32%|██████████████████████████████████████████████▎                                                                                                 | 9/28 [00:34<01:03,  3.36s/it]/home/martin/miniconda3/envs/rhizome/lib/python3.9/site-packages/sktime/forecasting/ets.py:248: UserWarning: Warning: time series is not strictly positive,multiplicative components are ommitted\n",
      "  warnings.warn(\n",
      "/home/martin/miniconda3/envs/rhizome/lib/python3.9/site-packages/sktime/utils/datetime.py:80: FutureWarning: Timestamp.freqstr is deprecated and will be removed in a future version.\n",
      "  if hasattr(x, \"freqstr\"):\n",
      "/home/martin/miniconda3/envs/rhizome/lib/python3.9/site-packages/sktime/utils/datetime.py:81: FutureWarning: Timestamp.freqstr is deprecated and will be removed in a future version.\n",
      "  if x.freqstr is None:\n",
      "/home/martin/miniconda3/envs/rhizome/lib/python3.9/site-packages/sktime/utils/datetime.py:83: FutureWarning: Timestamp.freqstr is deprecated and will be removed in a future version.\n",
      "  elif \"-\" in x.freqstr:\n",
      "/home/martin/miniconda3/envs/rhizome/lib/python3.9/site-packages/sktime/utils/datetime.py:86: FutureWarning: Timestamp.freqstr is deprecated and will be removed in a future version.\n",
      "  return x.freqstr\n",
      "/home/martin/miniconda3/envs/rhizome/lib/python3.9/site-packages/sktime/forecasting/base/_fh.py:565: FutureWarning: Timestamp.freqstr is deprecated and will be removed in a future version.\n",
      "  cutoff = _coerce_to_period(cutoff, freq=cutoff.freqstr)\n",
      " 36%|███████████████████████████████████████████████████                                                                                            | 10/28 [00:36<00:53,  2.95s/it]/home/martin/miniconda3/envs/rhizome/lib/python3.9/site-packages/sktime/forecasting/ets.py:248: UserWarning: Warning: time series is not strictly positive,multiplicative components are ommitted\n",
      "  warnings.warn(\n",
      "/home/martin/miniconda3/envs/rhizome/lib/python3.9/site-packages/sktime/utils/datetime.py:80: FutureWarning: Timestamp.freqstr is deprecated and will be removed in a future version.\n",
      "  if hasattr(x, \"freqstr\"):\n",
      "/home/martin/miniconda3/envs/rhizome/lib/python3.9/site-packages/sktime/utils/datetime.py:81: FutureWarning: Timestamp.freqstr is deprecated and will be removed in a future version.\n",
      "  if x.freqstr is None:\n",
      "/home/martin/miniconda3/envs/rhizome/lib/python3.9/site-packages/sktime/utils/datetime.py:83: FutureWarning: Timestamp.freqstr is deprecated and will be removed in a future version.\n",
      "  elif \"-\" in x.freqstr:\n",
      "/home/martin/miniconda3/envs/rhizome/lib/python3.9/site-packages/sktime/utils/datetime.py:86: FutureWarning: Timestamp.freqstr is deprecated and will be removed in a future version.\n",
      "  return x.freqstr\n",
      "/home/martin/miniconda3/envs/rhizome/lib/python3.9/site-packages/sktime/forecasting/base/_fh.py:565: FutureWarning: Timestamp.freqstr is deprecated and will be removed in a future version.\n",
      "  cutoff = _coerce_to_period(cutoff, freq=cutoff.freqstr)\n",
      " 39%|████████████████████████████████████████████████████████▏                                                                                      | 11/28 [00:39<00:51,  3.06s/it]/home/martin/miniconda3/envs/rhizome/lib/python3.9/site-packages/sktime/forecasting/ets.py:248: UserWarning: Warning: time series is not strictly positive,multiplicative components are ommitted\n",
      "  warnings.warn(\n",
      "/home/martin/miniconda3/envs/rhizome/lib/python3.9/site-packages/sktime/utils/datetime.py:80: FutureWarning: Timestamp.freqstr is deprecated and will be removed in a future version.\n",
      "  if hasattr(x, \"freqstr\"):\n",
      "/home/martin/miniconda3/envs/rhizome/lib/python3.9/site-packages/sktime/utils/datetime.py:81: FutureWarning: Timestamp.freqstr is deprecated and will be removed in a future version.\n",
      "  if x.freqstr is None:\n",
      "/home/martin/miniconda3/envs/rhizome/lib/python3.9/site-packages/sktime/utils/datetime.py:83: FutureWarning: Timestamp.freqstr is deprecated and will be removed in a future version.\n",
      "  elif \"-\" in x.freqstr:\n",
      "/home/martin/miniconda3/envs/rhizome/lib/python3.9/site-packages/sktime/utils/datetime.py:86: FutureWarning: Timestamp.freqstr is deprecated and will be removed in a future version.\n",
      "  return x.freqstr\n",
      "/home/martin/miniconda3/envs/rhizome/lib/python3.9/site-packages/sktime/forecasting/base/_fh.py:565: FutureWarning: Timestamp.freqstr is deprecated and will be removed in a future version.\n",
      "  cutoff = _coerce_to_period(cutoff, freq=cutoff.freqstr)\n"
     ]
    },
    {
     "name": "stderr",
     "output_type": "stream",
     "text": [
      " 43%|█████████████████████████████████████████████████████████████▎                                                                                 | 12/28 [00:41<00:43,  2.74s/it]/home/martin/miniconda3/envs/rhizome/lib/python3.9/site-packages/sktime/forecasting/ets.py:248: UserWarning: Warning: time series is not strictly positive,multiplicative components are ommitted\n",
      "  warnings.warn(\n",
      "/home/martin/miniconda3/envs/rhizome/lib/python3.9/site-packages/sktime/utils/datetime.py:80: FutureWarning: Timestamp.freqstr is deprecated and will be removed in a future version.\n",
      "  if hasattr(x, \"freqstr\"):\n",
      "/home/martin/miniconda3/envs/rhizome/lib/python3.9/site-packages/sktime/utils/datetime.py:81: FutureWarning: Timestamp.freqstr is deprecated and will be removed in a future version.\n",
      "  if x.freqstr is None:\n",
      "/home/martin/miniconda3/envs/rhizome/lib/python3.9/site-packages/sktime/utils/datetime.py:83: FutureWarning: Timestamp.freqstr is deprecated and will be removed in a future version.\n",
      "  elif \"-\" in x.freqstr:\n",
      "/home/martin/miniconda3/envs/rhizome/lib/python3.9/site-packages/sktime/utils/datetime.py:86: FutureWarning: Timestamp.freqstr is deprecated and will be removed in a future version.\n",
      "  return x.freqstr\n",
      "/home/martin/miniconda3/envs/rhizome/lib/python3.9/site-packages/sktime/forecasting/base/_fh.py:565: FutureWarning: Timestamp.freqstr is deprecated and will be removed in a future version.\n",
      "  cutoff = _coerce_to_period(cutoff, freq=cutoff.freqstr)\n",
      " 46%|██████████████████████████████████████████████████████████████████▍                                                                            | 13/28 [00:46<00:49,  3.29s/it]/home/martin/miniconda3/envs/rhizome/lib/python3.9/site-packages/sktime/forecasting/ets.py:248: UserWarning: Warning: time series is not strictly positive,multiplicative components are ommitted\n",
      "  warnings.warn(\n",
      "/home/martin/miniconda3/envs/rhizome/lib/python3.9/site-packages/sktime/utils/datetime.py:80: FutureWarning: Timestamp.freqstr is deprecated and will be removed in a future version.\n",
      "  if hasattr(x, \"freqstr\"):\n",
      "/home/martin/miniconda3/envs/rhizome/lib/python3.9/site-packages/sktime/utils/datetime.py:81: FutureWarning: Timestamp.freqstr is deprecated and will be removed in a future version.\n",
      "  if x.freqstr is None:\n",
      "/home/martin/miniconda3/envs/rhizome/lib/python3.9/site-packages/sktime/utils/datetime.py:83: FutureWarning: Timestamp.freqstr is deprecated and will be removed in a future version.\n",
      "  elif \"-\" in x.freqstr:\n",
      "/home/martin/miniconda3/envs/rhizome/lib/python3.9/site-packages/sktime/utils/datetime.py:86: FutureWarning: Timestamp.freqstr is deprecated and will be removed in a future version.\n",
      "  return x.freqstr\n",
      "/home/martin/miniconda3/envs/rhizome/lib/python3.9/site-packages/sktime/forecasting/base/_fh.py:565: FutureWarning: Timestamp.freqstr is deprecated and will be removed in a future version.\n",
      "  cutoff = _coerce_to_period(cutoff, freq=cutoff.freqstr)\n",
      " 50%|███████████████████████████████████████████████████████████████████████▌                                                                       | 14/28 [00:51<00:54,  3.92s/it]/home/martin/miniconda3/envs/rhizome/lib/python3.9/site-packages/sktime/forecasting/ets.py:248: UserWarning: Warning: time series is not strictly positive,multiplicative components are ommitted\n",
      "  warnings.warn(\n",
      "/home/martin/miniconda3/envs/rhizome/lib/python3.9/site-packages/sktime/utils/datetime.py:80: FutureWarning: Timestamp.freqstr is deprecated and will be removed in a future version.\n",
      "  if hasattr(x, \"freqstr\"):\n",
      "/home/martin/miniconda3/envs/rhizome/lib/python3.9/site-packages/sktime/utils/datetime.py:81: FutureWarning: Timestamp.freqstr is deprecated and will be removed in a future version.\n",
      "  if x.freqstr is None:\n",
      "/home/martin/miniconda3/envs/rhizome/lib/python3.9/site-packages/sktime/utils/datetime.py:83: FutureWarning: Timestamp.freqstr is deprecated and will be removed in a future version.\n",
      "  elif \"-\" in x.freqstr:\n",
      "/home/martin/miniconda3/envs/rhizome/lib/python3.9/site-packages/sktime/utils/datetime.py:86: FutureWarning: Timestamp.freqstr is deprecated and will be removed in a future version.\n",
      "  return x.freqstr\n",
      "/home/martin/miniconda3/envs/rhizome/lib/python3.9/site-packages/sktime/forecasting/base/_fh.py:565: FutureWarning: Timestamp.freqstr is deprecated and will be removed in a future version.\n",
      "  cutoff = _coerce_to_period(cutoff, freq=cutoff.freqstr)\n",
      " 54%|████████████████████████████████████████████████████████████████████████████▌                                                                  | 15/28 [00:52<00:39,  3.05s/it]/home/martin/miniconda3/envs/rhizome/lib/python3.9/site-packages/sktime/forecasting/ets.py:248: UserWarning: Warning: time series is not strictly positive,multiplicative components are ommitted\n",
      "  warnings.warn(\n",
      "/home/martin/miniconda3/envs/rhizome/lib/python3.9/site-packages/sktime/utils/datetime.py:80: FutureWarning: Timestamp.freqstr is deprecated and will be removed in a future version.\n",
      "  if hasattr(x, \"freqstr\"):\n",
      "/home/martin/miniconda3/envs/rhizome/lib/python3.9/site-packages/sktime/utils/datetime.py:81: FutureWarning: Timestamp.freqstr is deprecated and will be removed in a future version.\n",
      "  if x.freqstr is None:\n",
      "/home/martin/miniconda3/envs/rhizome/lib/python3.9/site-packages/sktime/utils/datetime.py:83: FutureWarning: Timestamp.freqstr is deprecated and will be removed in a future version.\n",
      "  elif \"-\" in x.freqstr:\n",
      "/home/martin/miniconda3/envs/rhizome/lib/python3.9/site-packages/sktime/utils/datetime.py:86: FutureWarning: Timestamp.freqstr is deprecated and will be removed in a future version.\n",
      "  return x.freqstr\n",
      "/home/martin/miniconda3/envs/rhizome/lib/python3.9/site-packages/sktime/forecasting/base/_fh.py:565: FutureWarning: Timestamp.freqstr is deprecated and will be removed in a future version.\n",
      "  cutoff = _coerce_to_period(cutoff, freq=cutoff.freqstr)\n",
      " 57%|█████████████████████████████████████████████████████████████████████████████████▋                                                             | 16/28 [00:57<00:41,  3.46s/it]/home/martin/miniconda3/envs/rhizome/lib/python3.9/site-packages/sktime/forecasting/ets.py:248: UserWarning: Warning: time series is not strictly positive,multiplicative components are ommitted\n",
      "  warnings.warn(\n",
      "/home/martin/miniconda3/envs/rhizome/lib/python3.9/site-packages/sktime/utils/datetime.py:80: FutureWarning: Timestamp.freqstr is deprecated and will be removed in a future version.\n",
      "  if hasattr(x, \"freqstr\"):\n",
      "/home/martin/miniconda3/envs/rhizome/lib/python3.9/site-packages/sktime/utils/datetime.py:81: FutureWarning: Timestamp.freqstr is deprecated and will be removed in a future version.\n",
      "  if x.freqstr is None:\n",
      "/home/martin/miniconda3/envs/rhizome/lib/python3.9/site-packages/sktime/utils/datetime.py:83: FutureWarning: Timestamp.freqstr is deprecated and will be removed in a future version.\n",
      "  elif \"-\" in x.freqstr:\n",
      "/home/martin/miniconda3/envs/rhizome/lib/python3.9/site-packages/sktime/utils/datetime.py:86: FutureWarning: Timestamp.freqstr is deprecated and will be removed in a future version.\n",
      "  return x.freqstr\n",
      "/home/martin/miniconda3/envs/rhizome/lib/python3.9/site-packages/sktime/forecasting/base/_fh.py:565: FutureWarning: Timestamp.freqstr is deprecated and will be removed in a future version.\n",
      "  cutoff = _coerce_to_period(cutoff, freq=cutoff.freqstr)\n",
      " 61%|██████████████████████████████████████████████████████████████████████████████████████▊                                                        | 17/28 [01:00<00:36,  3.35s/it]/home/martin/miniconda3/envs/rhizome/lib/python3.9/site-packages/sktime/forecasting/ets.py:248: UserWarning: Warning: time series is not strictly positive,multiplicative components are ommitted\n",
      "  warnings.warn(\n",
      "/home/martin/miniconda3/envs/rhizome/lib/python3.9/site-packages/sktime/utils/datetime.py:80: FutureWarning: Timestamp.freqstr is deprecated and will be removed in a future version.\n",
      "  if hasattr(x, \"freqstr\"):\n",
      "/home/martin/miniconda3/envs/rhizome/lib/python3.9/site-packages/sktime/utils/datetime.py:81: FutureWarning: Timestamp.freqstr is deprecated and will be removed in a future version.\n",
      "  if x.freqstr is None:\n",
      "/home/martin/miniconda3/envs/rhizome/lib/python3.9/site-packages/sktime/utils/datetime.py:83: FutureWarning: Timestamp.freqstr is deprecated and will be removed in a future version.\n",
      "  elif \"-\" in x.freqstr:\n",
      "/home/martin/miniconda3/envs/rhizome/lib/python3.9/site-packages/sktime/utils/datetime.py:86: FutureWarning: Timestamp.freqstr is deprecated and will be removed in a future version.\n",
      "  return x.freqstr\n",
      "/home/martin/miniconda3/envs/rhizome/lib/python3.9/site-packages/sktime/forecasting/base/_fh.py:565: FutureWarning: Timestamp.freqstr is deprecated and will be removed in a future version.\n",
      "  cutoff = _coerce_to_period(cutoff, freq=cutoff.freqstr)\n"
     ]
    },
    {
     "name": "stderr",
     "output_type": "stream",
     "text": [
      " 64%|███████████████████████████████████████████████████████████████████████████████████████████▉                                                   | 18/28 [01:04<00:36,  3.62s/it]/home/martin/miniconda3/envs/rhizome/lib/python3.9/site-packages/sktime/forecasting/ets.py:248: UserWarning: Warning: time series is not strictly positive,multiplicative components are ommitted\n",
      "  warnings.warn(\n",
      "/home/martin/miniconda3/envs/rhizome/lib/python3.9/site-packages/sktime/utils/datetime.py:80: FutureWarning: Timestamp.freqstr is deprecated and will be removed in a future version.\n",
      "  if hasattr(x, \"freqstr\"):\n",
      "/home/martin/miniconda3/envs/rhizome/lib/python3.9/site-packages/sktime/utils/datetime.py:81: FutureWarning: Timestamp.freqstr is deprecated and will be removed in a future version.\n",
      "  if x.freqstr is None:\n",
      "/home/martin/miniconda3/envs/rhizome/lib/python3.9/site-packages/sktime/utils/datetime.py:83: FutureWarning: Timestamp.freqstr is deprecated and will be removed in a future version.\n",
      "  elif \"-\" in x.freqstr:\n",
      "/home/martin/miniconda3/envs/rhizome/lib/python3.9/site-packages/sktime/utils/datetime.py:86: FutureWarning: Timestamp.freqstr is deprecated and will be removed in a future version.\n",
      "  return x.freqstr\n",
      "/home/martin/miniconda3/envs/rhizome/lib/python3.9/site-packages/sktime/forecasting/base/_fh.py:565: FutureWarning: Timestamp.freqstr is deprecated and will be removed in a future version.\n",
      "  cutoff = _coerce_to_period(cutoff, freq=cutoff.freqstr)\n",
      " 68%|█████████████████████████████████████████████████████████████████████████████████████████████████                                              | 19/28 [01:08<00:34,  3.81s/it]/home/martin/miniconda3/envs/rhizome/lib/python3.9/site-packages/sktime/forecasting/ets.py:248: UserWarning: Warning: time series is not strictly positive,multiplicative components are ommitted\n",
      "  warnings.warn(\n",
      "/home/martin/miniconda3/envs/rhizome/lib/python3.9/site-packages/sktime/utils/datetime.py:80: FutureWarning: Timestamp.freqstr is deprecated and will be removed in a future version.\n",
      "  if hasattr(x, \"freqstr\"):\n",
      "/home/martin/miniconda3/envs/rhizome/lib/python3.9/site-packages/sktime/utils/datetime.py:81: FutureWarning: Timestamp.freqstr is deprecated and will be removed in a future version.\n",
      "  if x.freqstr is None:\n",
      "/home/martin/miniconda3/envs/rhizome/lib/python3.9/site-packages/sktime/utils/datetime.py:83: FutureWarning: Timestamp.freqstr is deprecated and will be removed in a future version.\n",
      "  elif \"-\" in x.freqstr:\n",
      "/home/martin/miniconda3/envs/rhizome/lib/python3.9/site-packages/sktime/utils/datetime.py:86: FutureWarning: Timestamp.freqstr is deprecated and will be removed in a future version.\n",
      "  return x.freqstr\n",
      "/home/martin/miniconda3/envs/rhizome/lib/python3.9/site-packages/sktime/forecasting/base/_fh.py:565: FutureWarning: Timestamp.freqstr is deprecated and will be removed in a future version.\n",
      "  cutoff = _coerce_to_period(cutoff, freq=cutoff.freqstr)\n",
      " 71%|██████████████████████████████████████████████████████████████████████████████████████████████████████▏                                        | 20/28 [01:12<00:30,  3.76s/it]/home/martin/miniconda3/envs/rhizome/lib/python3.9/site-packages/sktime/forecasting/ets.py:248: UserWarning: Warning: time series is not strictly positive,multiplicative components are ommitted\n",
      "  warnings.warn(\n",
      "/home/martin/miniconda3/envs/rhizome/lib/python3.9/site-packages/sktime/utils/datetime.py:80: FutureWarning: Timestamp.freqstr is deprecated and will be removed in a future version.\n",
      "  if hasattr(x, \"freqstr\"):\n",
      "/home/martin/miniconda3/envs/rhizome/lib/python3.9/site-packages/sktime/utils/datetime.py:81: FutureWarning: Timestamp.freqstr is deprecated and will be removed in a future version.\n",
      "  if x.freqstr is None:\n",
      "/home/martin/miniconda3/envs/rhizome/lib/python3.9/site-packages/sktime/utils/datetime.py:83: FutureWarning: Timestamp.freqstr is deprecated and will be removed in a future version.\n",
      "  elif \"-\" in x.freqstr:\n",
      "/home/martin/miniconda3/envs/rhizome/lib/python3.9/site-packages/sktime/utils/datetime.py:86: FutureWarning: Timestamp.freqstr is deprecated and will be removed in a future version.\n",
      "  return x.freqstr\n",
      "/home/martin/miniconda3/envs/rhizome/lib/python3.9/site-packages/sktime/forecasting/base/_fh.py:565: FutureWarning: Timestamp.freqstr is deprecated and will be removed in a future version.\n",
      "  cutoff = _coerce_to_period(cutoff, freq=cutoff.freqstr)\n",
      " 75%|███████████████████████████████████████████████████████████████████████████████████████████████████████████▎                                   | 21/28 [01:16<00:25,  3.67s/it]/home/martin/miniconda3/envs/rhizome/lib/python3.9/site-packages/sktime/forecasting/ets.py:248: UserWarning: Warning: time series is not strictly positive,multiplicative components are ommitted\n",
      "  warnings.warn(\n",
      "/home/martin/miniconda3/envs/rhizome/lib/python3.9/site-packages/sktime/utils/datetime.py:80: FutureWarning: Timestamp.freqstr is deprecated and will be removed in a future version.\n",
      "  if hasattr(x, \"freqstr\"):\n",
      "/home/martin/miniconda3/envs/rhizome/lib/python3.9/site-packages/sktime/utils/datetime.py:81: FutureWarning: Timestamp.freqstr is deprecated and will be removed in a future version.\n",
      "  if x.freqstr is None:\n",
      "/home/martin/miniconda3/envs/rhizome/lib/python3.9/site-packages/sktime/utils/datetime.py:83: FutureWarning: Timestamp.freqstr is deprecated and will be removed in a future version.\n",
      "  elif \"-\" in x.freqstr:\n",
      "/home/martin/miniconda3/envs/rhizome/lib/python3.9/site-packages/sktime/utils/datetime.py:86: FutureWarning: Timestamp.freqstr is deprecated and will be removed in a future version.\n",
      "  return x.freqstr\n",
      "/home/martin/miniconda3/envs/rhizome/lib/python3.9/site-packages/sktime/forecasting/base/_fh.py:565: FutureWarning: Timestamp.freqstr is deprecated and will be removed in a future version.\n",
      "  cutoff = _coerce_to_period(cutoff, freq=cutoff.freqstr)\n",
      " 79%|████████████████████████████████████████████████████████████████████████████████████████████████████████████████▎                              | 22/28 [01:18<00:19,  3.21s/it]/home/martin/miniconda3/envs/rhizome/lib/python3.9/site-packages/sktime/forecasting/ets.py:248: UserWarning: Warning: time series is not strictly positive,multiplicative components are ommitted\n",
      "  warnings.warn(\n",
      "/home/martin/miniconda3/envs/rhizome/lib/python3.9/site-packages/sktime/utils/datetime.py:80: FutureWarning: Timestamp.freqstr is deprecated and will be removed in a future version.\n",
      "  if hasattr(x, \"freqstr\"):\n",
      "/home/martin/miniconda3/envs/rhizome/lib/python3.9/site-packages/sktime/utils/datetime.py:81: FutureWarning: Timestamp.freqstr is deprecated and will be removed in a future version.\n",
      "  if x.freqstr is None:\n",
      "/home/martin/miniconda3/envs/rhizome/lib/python3.9/site-packages/sktime/utils/datetime.py:83: FutureWarning: Timestamp.freqstr is deprecated and will be removed in a future version.\n",
      "  elif \"-\" in x.freqstr:\n",
      "/home/martin/miniconda3/envs/rhizome/lib/python3.9/site-packages/sktime/utils/datetime.py:86: FutureWarning: Timestamp.freqstr is deprecated and will be removed in a future version.\n",
      "  return x.freqstr\n",
      "/home/martin/miniconda3/envs/rhizome/lib/python3.9/site-packages/sktime/forecasting/base/_fh.py:565: FutureWarning: Timestamp.freqstr is deprecated and will be removed in a future version.\n",
      "  cutoff = _coerce_to_period(cutoff, freq=cutoff.freqstr)\n",
      " 82%|█████████████████████████████████████████████████████████████████████████████████████████████████████████████████████▍                         | 23/28 [01:20<00:15,  3.07s/it]/home/martin/miniconda3/envs/rhizome/lib/python3.9/site-packages/sktime/forecasting/ets.py:248: UserWarning: Warning: time series is not strictly positive,multiplicative components are ommitted\n",
      "  warnings.warn(\n",
      "/home/martin/miniconda3/envs/rhizome/lib/python3.9/site-packages/sktime/utils/datetime.py:80: FutureWarning: Timestamp.freqstr is deprecated and will be removed in a future version.\n",
      "  if hasattr(x, \"freqstr\"):\n",
      "/home/martin/miniconda3/envs/rhizome/lib/python3.9/site-packages/sktime/utils/datetime.py:81: FutureWarning: Timestamp.freqstr is deprecated and will be removed in a future version.\n",
      "  if x.freqstr is None:\n",
      "/home/martin/miniconda3/envs/rhizome/lib/python3.9/site-packages/sktime/utils/datetime.py:83: FutureWarning: Timestamp.freqstr is deprecated and will be removed in a future version.\n",
      "  elif \"-\" in x.freqstr:\n",
      "/home/martin/miniconda3/envs/rhizome/lib/python3.9/site-packages/sktime/utils/datetime.py:86: FutureWarning: Timestamp.freqstr is deprecated and will be removed in a future version.\n",
      "  return x.freqstr\n",
      "/home/martin/miniconda3/envs/rhizome/lib/python3.9/site-packages/sktime/forecasting/base/_fh.py:565: FutureWarning: Timestamp.freqstr is deprecated and will be removed in a future version.\n",
      "  cutoff = _coerce_to_period(cutoff, freq=cutoff.freqstr)\n"
     ]
    },
    {
     "name": "stderr",
     "output_type": "stream",
     "text": [
      " 86%|██████████████████████████████████████████████████████████████████████████████████████████████████████████████████████████▌                    | 24/28 [01:24<00:12,  3.13s/it]/home/martin/miniconda3/envs/rhizome/lib/python3.9/site-packages/sktime/forecasting/ets.py:248: UserWarning: Warning: time series is not strictly positive,multiplicative components are ommitted\n",
      "  warnings.warn(\n",
      "/home/martin/miniconda3/envs/rhizome/lib/python3.9/site-packages/sktime/utils/datetime.py:80: FutureWarning: Timestamp.freqstr is deprecated and will be removed in a future version.\n",
      "  if hasattr(x, \"freqstr\"):\n",
      "/home/martin/miniconda3/envs/rhizome/lib/python3.9/site-packages/sktime/utils/datetime.py:81: FutureWarning: Timestamp.freqstr is deprecated and will be removed in a future version.\n",
      "  if x.freqstr is None:\n",
      "/home/martin/miniconda3/envs/rhizome/lib/python3.9/site-packages/sktime/utils/datetime.py:83: FutureWarning: Timestamp.freqstr is deprecated and will be removed in a future version.\n",
      "  elif \"-\" in x.freqstr:\n",
      "/home/martin/miniconda3/envs/rhizome/lib/python3.9/site-packages/sktime/utils/datetime.py:86: FutureWarning: Timestamp.freqstr is deprecated and will be removed in a future version.\n",
      "  return x.freqstr\n",
      "/home/martin/miniconda3/envs/rhizome/lib/python3.9/site-packages/sktime/forecasting/base/_fh.py:565: FutureWarning: Timestamp.freqstr is deprecated and will be removed in a future version.\n",
      "  cutoff = _coerce_to_period(cutoff, freq=cutoff.freqstr)\n",
      " 89%|███████████████████████████████████████████████████████████████████████████████████████████████████████████████████████████████▋               | 25/28 [01:27<00:09,  3.29s/it]/home/martin/miniconda3/envs/rhizome/lib/python3.9/site-packages/sktime/forecasting/ets.py:248: UserWarning: Warning: time series is not strictly positive,multiplicative components are ommitted\n",
      "  warnings.warn(\n",
      "/home/martin/miniconda3/envs/rhizome/lib/python3.9/site-packages/sktime/utils/datetime.py:80: FutureWarning: Timestamp.freqstr is deprecated and will be removed in a future version.\n",
      "  if hasattr(x, \"freqstr\"):\n",
      "/home/martin/miniconda3/envs/rhizome/lib/python3.9/site-packages/sktime/utils/datetime.py:81: FutureWarning: Timestamp.freqstr is deprecated and will be removed in a future version.\n",
      "  if x.freqstr is None:\n",
      "/home/martin/miniconda3/envs/rhizome/lib/python3.9/site-packages/sktime/utils/datetime.py:83: FutureWarning: Timestamp.freqstr is deprecated and will be removed in a future version.\n",
      "  elif \"-\" in x.freqstr:\n",
      "/home/martin/miniconda3/envs/rhizome/lib/python3.9/site-packages/sktime/utils/datetime.py:86: FutureWarning: Timestamp.freqstr is deprecated and will be removed in a future version.\n",
      "  return x.freqstr\n",
      "/home/martin/miniconda3/envs/rhizome/lib/python3.9/site-packages/sktime/forecasting/base/_fh.py:565: FutureWarning: Timestamp.freqstr is deprecated and will be removed in a future version.\n",
      "  cutoff = _coerce_to_period(cutoff, freq=cutoff.freqstr)\n",
      " 93%|████████████████████████████████████████████████████████████████████████████████████████████████████████████████████████████████████▊          | 26/28 [01:31<00:06,  3.49s/it]/home/martin/miniconda3/envs/rhizome/lib/python3.9/site-packages/sktime/forecasting/ets.py:248: UserWarning: Warning: time series is not strictly positive,multiplicative components are ommitted\n",
      "  warnings.warn(\n",
      "/home/martin/miniconda3/envs/rhizome/lib/python3.9/site-packages/sktime/utils/datetime.py:80: FutureWarning: Timestamp.freqstr is deprecated and will be removed in a future version.\n",
      "  if hasattr(x, \"freqstr\"):\n",
      "/home/martin/miniconda3/envs/rhizome/lib/python3.9/site-packages/sktime/utils/datetime.py:81: FutureWarning: Timestamp.freqstr is deprecated and will be removed in a future version.\n",
      "  if x.freqstr is None:\n",
      "/home/martin/miniconda3/envs/rhizome/lib/python3.9/site-packages/sktime/utils/datetime.py:83: FutureWarning: Timestamp.freqstr is deprecated and will be removed in a future version.\n",
      "  elif \"-\" in x.freqstr:\n",
      "/home/martin/miniconda3/envs/rhizome/lib/python3.9/site-packages/sktime/utils/datetime.py:86: FutureWarning: Timestamp.freqstr is deprecated and will be removed in a future version.\n",
      "  return x.freqstr\n",
      "/home/martin/miniconda3/envs/rhizome/lib/python3.9/site-packages/sktime/forecasting/base/_fh.py:565: FutureWarning: Timestamp.freqstr is deprecated and will be removed in a future version.\n",
      "  cutoff = _coerce_to_period(cutoff, freq=cutoff.freqstr)\n",
      " 96%|█████████████████████████████████████████████████████████████████████████████████████████████████████████████████████████████████████████▉     | 27/28 [01:35<00:03,  3.43s/it]/home/martin/miniconda3/envs/rhizome/lib/python3.9/site-packages/sktime/forecasting/ets.py:248: UserWarning: Warning: time series is not strictly positive,multiplicative components are ommitted\n",
      "  warnings.warn(\n",
      "/home/martin/miniconda3/envs/rhizome/lib/python3.9/site-packages/sktime/utils/datetime.py:80: FutureWarning: Timestamp.freqstr is deprecated and will be removed in a future version.\n",
      "  if hasattr(x, \"freqstr\"):\n",
      "/home/martin/miniconda3/envs/rhizome/lib/python3.9/site-packages/sktime/utils/datetime.py:81: FutureWarning: Timestamp.freqstr is deprecated and will be removed in a future version.\n",
      "  if x.freqstr is None:\n",
      "/home/martin/miniconda3/envs/rhizome/lib/python3.9/site-packages/sktime/utils/datetime.py:83: FutureWarning: Timestamp.freqstr is deprecated and will be removed in a future version.\n",
      "  elif \"-\" in x.freqstr:\n",
      "/home/martin/miniconda3/envs/rhizome/lib/python3.9/site-packages/sktime/utils/datetime.py:86: FutureWarning: Timestamp.freqstr is deprecated and will be removed in a future version.\n",
      "  return x.freqstr\n",
      "/home/martin/miniconda3/envs/rhizome/lib/python3.9/site-packages/sktime/forecasting/base/_fh.py:565: FutureWarning: Timestamp.freqstr is deprecated and will be removed in a future version.\n",
      "  cutoff = _coerce_to_period(cutoff, freq=cutoff.freqstr)\n",
      "100%|███████████████████████████████████████████████████████████████████████████████████████████████████████████████████████████████████████████████| 28/28 [01:36<00:00,  3.46s/it]\n"
     ]
    }
   ],
   "source": [
    "n_frames = 24\n",
    "\n",
    "date_start = \"03-01-2020\"\n",
    "date_end = \"03-30-2020\"\n",
    "\n",
    "date_start = pd.to_datetime(date_start)\n",
    "date_end = pd.to_datetime(date_end)\n",
    "\n",
    "n_frames_t = pd.Timedelta(hours=n_frames)\n",
    "\n",
    "period = (date_end - date_start).days\n",
    "\n",
    "x_train = prices[:date_start]\n",
    "\n",
    "pred_list = []\n",
    "forecaster = AutoETS(auto=True, n_jobs=-1, sp=12)\n",
    "\n",
    "for p in tqdm(range(1,period)):\n",
    "    forecaster.fit(x_train)\n",
    "    pred_list.append(forecaster.predict(fh=np.arange(1, n_frames+1)))\n",
    "    split = date_start + p*n_frames_t\n",
    "    x_train = prices[:split]\n",
    "    \n",
    "y_true = prices[date_start:split]"
   ]
  },
  {
   "cell_type": "code",
   "execution_count": 54,
   "id": "e9942072",
   "metadata": {},
   "outputs": [],
   "source": [
    "y_pred_ets = pd.concat(pred_list,axis=0)"
   ]
  },
  {
   "cell_type": "code",
   "execution_count": 58,
   "id": "9bf7eaa5",
   "metadata": {},
   "outputs": [
    {
     "data": {
      "text/html": [
       "<table class=\"simpletable\">\n",
       "<caption>ETS Results</caption>\n",
       "<tr>\n",
       "  <th>Dep. Variable:</th>         <td>value</td>      <th>  No. Observations:  </th>    <td>10849</td>  \n",
       "</tr>\n",
       "<tr>\n",
       "  <th>Model:</th>               <td>ETS(ANA)</td>     <th>  Log Likelihood     </th> <td>-30840.409</td>\n",
       "</tr>\n",
       "<tr>\n",
       "  <th>Date:</th>            <td>Tue, 27 Sep 2022</td> <th>  AIC                </th>  <td>61712.818</td>\n",
       "</tr>\n",
       "<tr>\n",
       "  <th>Time:</th>                <td>21:00:59</td>     <th>  BIC                </th>  <td>61829.487</td>\n",
       "</tr>\n",
       "<tr>\n",
       "  <th>Sample:</th>             <td>01-01-2019</td>    <th>  HQIC               </th>  <td>61752.151</td>\n",
       "</tr>\n",
       "<tr>\n",
       "  <th></th>                   <td>- 03-28-2020</td>   <th>  Scale              </th>   <td>17.245</td>  \n",
       "</tr>\n",
       "<tr>\n",
       "  <th>Covariance Type:</th>      <td>approx</td>      <th>                     </th>      <td> </td>    \n",
       "</tr>\n",
       "</table>\n",
       "<table class=\"simpletable\">\n",
       "<tr>\n",
       "           <td></td>              <th>coef</th>     <th>std err</th>      <th>z</th>      <th>P>|z|</th>  <th>[0.025</th>    <th>0.975]</th>  \n",
       "</tr>\n",
       "<tr>\n",
       "  <th>smoothing_level</th>     <td>    0.9956</td> <td>    0.010</td> <td>  101.750</td> <td> 0.000</td> <td>    0.976</td> <td>    1.015</td>\n",
       "</tr>\n",
       "<tr>\n",
       "  <th>smoothing_seasonal</th>  <td>    0.0044</td> <td>    0.001</td> <td>    7.308</td> <td> 0.000</td> <td>    0.003</td> <td>    0.006</td>\n",
       "</tr>\n",
       "<tr>\n",
       "  <th>initial_level</th>       <td>   -4.5112</td> <td>      nan</td> <td>      nan</td> <td>   nan</td> <td>      nan</td> <td>      nan</td>\n",
       "</tr>\n",
       "<tr>\n",
       "  <th>initial_seasonal.0</th>  <td>    1.6773</td> <td>      nan</td> <td>      nan</td> <td>   nan</td> <td>      nan</td> <td>      nan</td>\n",
       "</tr>\n",
       "<tr>\n",
       "  <th>initial_seasonal.1</th>  <td>    3.8575</td> <td>      nan</td> <td>      nan</td> <td>   nan</td> <td>      nan</td> <td>      nan</td>\n",
       "</tr>\n",
       "<tr>\n",
       "  <th>initial_seasonal.2</th>  <td>    6.9982</td> <td>      nan</td> <td>      nan</td> <td>   nan</td> <td>      nan</td> <td>      nan</td>\n",
       "</tr>\n",
       "<tr>\n",
       "  <th>initial_seasonal.3</th>  <td>    8.8482</td> <td>      nan</td> <td>      nan</td> <td>   nan</td> <td>      nan</td> <td>      nan</td>\n",
       "</tr>\n",
       "<tr>\n",
       "  <th>initial_seasonal.4</th>  <td>   12.5750</td> <td>      nan</td> <td>      nan</td> <td>   nan</td> <td>      nan</td> <td>      nan</td>\n",
       "</tr>\n",
       "<tr>\n",
       "  <th>initial_seasonal.5</th>  <td>   14.6289</td> <td>      nan</td> <td>      nan</td> <td>   nan</td> <td>      nan</td> <td>      nan</td>\n",
       "</tr>\n",
       "<tr>\n",
       "  <th>initial_seasonal.6</th>  <td>   12.9964</td> <td>      nan</td> <td>      nan</td> <td>   nan</td> <td>      nan</td> <td>      nan</td>\n",
       "</tr>\n",
       "<tr>\n",
       "  <th>initial_seasonal.7</th>  <td>    8.2901</td> <td>      nan</td> <td>      nan</td> <td>   nan</td> <td>      nan</td> <td>      nan</td>\n",
       "</tr>\n",
       "<tr>\n",
       "  <th>initial_seasonal.8</th>  <td>    3.2940</td> <td>      nan</td> <td>      nan</td> <td>   nan</td> <td>      nan</td> <td>      nan</td>\n",
       "</tr>\n",
       "<tr>\n",
       "  <th>initial_seasonal.9</th>  <td>    0.6695</td> <td>      nan</td> <td>      nan</td> <td>   nan</td> <td>      nan</td> <td>      nan</td>\n",
       "</tr>\n",
       "<tr>\n",
       "  <th>initial_seasonal.10</th> <td>   -0.2910</td> <td>      nan</td> <td>      nan</td> <td>   nan</td> <td>      nan</td> <td>      nan</td>\n",
       "</tr>\n",
       "<tr>\n",
       "  <th>initial_seasonal.11</th> <td>         0</td> <td>      nan</td> <td>      nan</td> <td>   nan</td> <td>      nan</td> <td>      nan</td>\n",
       "</tr>\n",
       "</table>\n",
       "<table class=\"simpletable\">\n",
       "<tr>\n",
       "  <th>Ljung-Box (Q):</th>          <td>2893.87</td> <th>  Jarque-Bera (JB):  </th> <td>97428.19</td>\n",
       "</tr>\n",
       "<tr>\n",
       "  <th>Prob(Q):</th>                 <td>0.00</td>   <th>  Prob(JB):          </th>   <td>0.00</td>  \n",
       "</tr>\n",
       "<tr>\n",
       "  <th>Heteroskedasticity (H):</th>  <td>0.97</td>   <th>  Skew:              </th>   <td>0.52</td>  \n",
       "</tr>\n",
       "<tr>\n",
       "  <th>Prob(H) (two-sided):</th>     <td>0.30</td>   <th>  Kurtosis:          </th>   <td>17.64</td> \n",
       "</tr>\n",
       "</table><br/><br/>Warnings:<br/>[1] Covariance matrix calculated using numerical (complex-step) differentiation.<br/>[2] Covariance matrix is singular or near-singular, with condition number 3.82e+14. Standard errors may be unstable."
      ],
      "text/plain": [
       "<class 'statsmodels.iolib.summary.Summary'>\n",
       "\"\"\"\n",
       "                                 ETS Results                                  \n",
       "==============================================================================\n",
       "Dep. Variable:                  value   No. Observations:                10849\n",
       "Model:                       ETS(ANA)   Log Likelihood              -30840.409\n",
       "Date:                Tue, 27 Sep 2022   AIC                          61712.818\n",
       "Time:                        21:00:59   BIC                          61829.487\n",
       "Sample:                    01-01-2019   HQIC                         61752.151\n",
       "                         - 03-28-2020   Scale                           17.245\n",
       "Covariance Type:               approx                                         \n",
       "=======================================================================================\n",
       "                          coef    std err          z      P>|z|      [0.025      0.975]\n",
       "---------------------------------------------------------------------------------------\n",
       "smoothing_level         0.9956      0.010    101.750      0.000       0.976       1.015\n",
       "smoothing_seasonal      0.0044      0.001      7.308      0.000       0.003       0.006\n",
       "initial_level          -4.5112        nan        nan        nan         nan         nan\n",
       "initial_seasonal.0      1.6773        nan        nan        nan         nan         nan\n",
       "initial_seasonal.1      3.8575        nan        nan        nan         nan         nan\n",
       "initial_seasonal.2      6.9982        nan        nan        nan         nan         nan\n",
       "initial_seasonal.3      8.8482        nan        nan        nan         nan         nan\n",
       "initial_seasonal.4     12.5750        nan        nan        nan         nan         nan\n",
       "initial_seasonal.5     14.6289        nan        nan        nan         nan         nan\n",
       "initial_seasonal.6     12.9964        nan        nan        nan         nan         nan\n",
       "initial_seasonal.7      8.2901        nan        nan        nan         nan         nan\n",
       "initial_seasonal.8      3.2940        nan        nan        nan         nan         nan\n",
       "initial_seasonal.9      0.6695        nan        nan        nan         nan         nan\n",
       "initial_seasonal.10    -0.2910        nan        nan        nan         nan         nan\n",
       "initial_seasonal.11          0        nan        nan        nan         nan         nan\n",
       "===================================================================================\n",
       "Ljung-Box (Q):                     2893.87   Jarque-Bera (JB):             97428.19\n",
       "Prob(Q):                              0.00   Prob(JB):                         0.00\n",
       "Heteroskedasticity (H):               0.97   Skew:                             0.52\n",
       "Prob(H) (two-sided):                  0.30   Kurtosis:                        17.64\n",
       "===================================================================================\n",
       "\n",
       "Warnings:\n",
       "[1] Covariance matrix calculated using numerical (complex-step) differentiation.\n",
       "[2] Covariance matrix is singular or near-singular, with condition number 3.82e+14. Standard errors may be unstable.\n",
       "\"\"\""
      ]
     },
     "execution_count": 58,
     "metadata": {},
     "output_type": "execute_result"
    }
   ],
   "source": [
    "forecaster.summary()"
   ]
  },
  {
   "cell_type": "code",
   "execution_count": 60,
   "id": "7f599aa8",
   "metadata": {},
   "outputs": [
    {
     "name": "stdout",
     "output_type": "stream",
     "text": [
      "7.543419441698955\n"
     ]
    }
   ],
   "source": [
    "print(mean_absolute_error(y_true[1:], y_pred))"
   ]
  },
  {
   "cell_type": "code",
   "execution_count": 57,
   "id": "a0375c31",
   "metadata": {},
   "outputs": [
    {
     "data": {
      "text/plain": [
       "(<Figure size 1152x288 with 1 Axes>, <AxesSubplot:ylabel='value'>)"
      ]
     },
     "execution_count": 57,
     "metadata": {},
     "output_type": "execute_result"
    },
    {
     "data": {
      "text/plain": [
       "<Figure size 1080x504 with 0 Axes>"
      ]
     },
     "metadata": {},
     "output_type": "display_data"
    },
    {
     "data": {
      "image/png": "[encoded data removed]",
      "text/plain": [
       "<Figure size 1152x288 with 1 Axes>"
      ]
     },
     "metadata": {
      "needs_background": "light"
     },
     "output_type": "display_data"
    }
   ],
   "source": [
    "plt.figure(figsize=(15,7))\n",
    "plot_series(y_true[:100],\n",
    "            y_pred_ets[:100], \n",
    "            labels=[\"true\", \"pred\"])"
   ]
  },
  {
   "cell_type": "markdown",
   "id": "ab7c6f80",
   "metadata": {},
   "source": [
    "## Current forecaster"
   ]
  },
  {
   "cell_type": "code",
   "execution_count": null,
   "id": "d0f2eaea",
   "metadata": {},
   "outputs": [],
   "source": [
    "n_frames = 24\n",
    "\n",
    "date_start = \"03-01-2021\"\n",
    "date_end = \"03-30-2021\"\n",
    "\n",
    "date_start = pd.to_datetime(date_start)\n",
    "date_end = pd.to_datetime(date_end)\n",
    "\n",
    "n_frames_t = pd.Timedelta(hours=n_frames)\n",
    "\n",
    "period = (date_end - date_start).days\n",
    "\n",
    "x_train = prices[:date_start]\n",
    "\n",
    "pred_list = []\n",
    "forecaster = ModelForecastFactory().get_model(**{\n",
    "                                        \"name\":\"arima\",\n",
    "                                        \"order\":dict(p=24, d=1, q=0),\n",
    "                                        \"seasonal_order\":None,\n",
    "                                        })\n",
    "\n",
    "for p in tqdm(range(1,period)):\n",
    "    forecaster.train_model(x_train)\n",
    "    pred_list.append(forecaster.forecast(n_frames=n_frames))\n",
    "    split = date_start + p*n_frames_t\n",
    "    x_train = prices[:split]\n",
    "    \n",
    "y_true = prices[date_start:split]"
   ]
  },
  {
   "cell_type": "code",
   "execution_count": null,
   "id": "c11e31a6",
   "metadata": {},
   "outputs": [],
   "source": [
    "y_pred_arima = pd.concat(pred_list,axis=0)"
   ]
  },
  {
   "cell_type": "code",
   "execution_count": 61,
   "id": "478d22a3",
   "metadata": {},
   "outputs": [
    {
     "name": "stdout",
     "output_type": "stream",
     "text": [
      "7.8712975898046365\n"
     ]
    }
   ],
   "source": [
    "print(mean_absolute_error(y_true[1:], y_pred_arima))"
   ]
  },
  {
   "cell_type": "code",
   "execution_count": 62,
   "id": "02e5086e",
   "metadata": {},
   "outputs": [
    {
     "data": {
      "text/plain": [
       "(<Figure size 1152x288 with 1 Axes>, <AxesSubplot:ylabel='value'>)"
      ]
     },
     "execution_count": 62,
     "metadata": {},
     "output_type": "execute_result"
    },
    {
     "data": {
      "text/plain": [
       "<Figure size 1080x504 with 0 Axes>"
      ]
     },
     "metadata": {},
     "output_type": "display_data"
    },
    {
     "data": {
      "image/png": "[encoded data removed]",
      "text/plain": [
       "<Figure size 1152x288 with 1 Axes>"
      ]
     },
     "metadata": {
      "needs_background": "light"
     },
     "output_type": "display_data"
    }
   ],
   "source": [
    "plt.figure(figsize=(15,7))\n",
    "plot_series(y_true[50:300],\n",
    "            y_pred_arima[50:300], \n",
    "            labels=[\"true\", \"pred\"])"
   ]
  },
  {
   "cell_type": "markdown",
   "id": "bb888202",
   "metadata": {},
   "source": [
    "## Moving Average"
   ]
  },
  {
   "cell_type": "code",
   "execution_count": null,
   "id": "a2e780ca",
   "metadata": {},
   "outputs": [],
   "source": [
    "n_frames = 24\n",
    "\n",
    "date_start = \"03-01-2020\"\n",
    "date_end = \"03-30-2020\"\n",
    "\n",
    "date_start = pd.to_datetime(date_start)\n",
    "date_end = pd.to_datetime(date_end)\n",
    "\n",
    "n_frames_t = pd.Timedelta(hours=n_frames)\n",
    "\n",
    "period = (date_end - date_start).days\n",
    "\n",
    "x_train = prices[:date_start]\n",
    "\n",
    "pred_list = []\n",
    "\n",
    "for p in tqdm(range(1,period)):\n",
    "    pred_list.append()\n",
    "    split = date_start + p*n_frames_t\n",
    "    x_train = prices[:split]\n",
    "    \n",
    "y_true = prices[date_start:split]"
   ]
  },
  {
   "cell_type": "code",
   "execution_count": null,
   "id": "6f6ee0ef",
   "metadata": {},
   "outputs": [],
   "source": []
  }
 ],
 "metadata": {
  "kernelspec": {
   "display_name": "Python 3 (ipykernel)",
   "language": "python",
   "name": "python3"
  },
  "language_info": {
   "codemirror_mode": {
    "name": "ipython",
    "version": 3
   },
   "file_extension": ".py",
   "mimetype": "text/x-python",
   "name": "python",
   "nbconvert_exporter": "python",
   "pygments_lexer": "ipython3",
   "version": "3.9.12"
  }
 },
 "nbformat": 4,
 "nbformat_minor": 5
}
