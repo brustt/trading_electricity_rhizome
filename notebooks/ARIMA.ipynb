{
 "cells": [
  {
   "cell_type": "code",
   "execution_count": 1,
   "metadata": {},
   "outputs": [
    {
     "ename": "ModuleNotFoundError",
     "evalue": "No module named 'matplotlib'",
     "output_type": "error",
     "traceback": [
      "\u001b[0;31m---------------------------------------------------------------------------\u001b[0m",
      "\u001b[0;31mModuleNotFoundError\u001b[0m                       Traceback (most recent call last)",
      "Input \u001b[0;32mIn [1]\u001b[0m, in \u001b[0;36m<cell line: 3>\u001b[0;34m()\u001b[0m\n\u001b[1;32m      1\u001b[0m \u001b[38;5;28;01mimport\u001b[39;00m \u001b[38;5;21;01mnumpy\u001b[39;00m \u001b[38;5;28;01mas\u001b[39;00m \u001b[38;5;21;01mnp\u001b[39;00m\n\u001b[1;32m      2\u001b[0m \u001b[38;5;28;01mimport\u001b[39;00m \u001b[38;5;21;01mpandas\u001b[39;00m \u001b[38;5;28;01mas\u001b[39;00m \u001b[38;5;21;01mpd\u001b[39;00m\n\u001b[0;32m----> 3\u001b[0m \u001b[38;5;28;01mimport\u001b[39;00m \u001b[38;5;21;01mmatplotlib\u001b[39;00m\u001b[38;5;21;01m.\u001b[39;00m\u001b[38;5;21;01mpyplot\u001b[39;00m \u001b[38;5;28;01mas\u001b[39;00m \u001b[38;5;21;01mplt\u001b[39;00m\n\u001b[1;32m      4\u001b[0m \u001b[38;5;28;01mfrom\u001b[39;00m \u001b[38;5;21;01msklearn\u001b[39;00m\u001b[38;5;21;01m.\u001b[39;00m\u001b[38;5;21;01mmetrics\u001b[39;00m \u001b[38;5;28;01mimport\u001b[39;00m mean_squared_error\n\u001b[1;32m      5\u001b[0m \u001b[38;5;28;01mfrom\u001b[39;00m \u001b[38;5;21;01mstatsmodels\u001b[39;00m\u001b[38;5;21;01m.\u001b[39;00m\u001b[38;5;21;01mtsa\u001b[39;00m\u001b[38;5;21;01m.\u001b[39;00m\u001b[38;5;21;01marima\u001b[39;00m\u001b[38;5;21;01m.\u001b[39;00m\u001b[38;5;21;01mmodel\u001b[39;00m \u001b[38;5;28;01mimport\u001b[39;00m ARIMA\n",
      "\u001b[0;31mModuleNotFoundError\u001b[0m: No module named 'matplotlib'"
     ]
    }
   ],
   "source": [
    "import numpy as np\n",
    "import pandas as pd\n",
    "import matplotlib.pyplot as plt\n",
    "from sklearn.metrics import mean_squared_error\n",
    "from statsmodels.tsa.arima.model import ARIMA\n",
    "from sklearn.metrics import mean_absolute_error\n",
    "\n",
    "\n",
    "import tensorflow as tf\n",
    "keras = tf.keras\n",
    "from datetime import datetime"
   ]
  },
  {
   "cell_type": "markdown",
   "metadata": {},
   "source": [
    "https://github.com/Morgan-Sell/caiso-price-forecast/blob/master/src/model.py"
   ]
  },
  {
   "cell_type": "code",
   "execution_count": 18,
   "metadata": {},
   "outputs": [
    {
     "data": {
      "text/html": [
       "<div>\n",
       "<style scoped>\n",
       "    .dataframe tbody tr th:only-of-type {\n",
       "        vertical-align: middle;\n",
       "    }\n",
       "\n",
       "    .dataframe tbody tr th {\n",
       "        vertical-align: top;\n",
       "    }\n",
       "\n",
       "    .dataframe thead th {\n",
       "        text-align: right;\n",
       "    }\n",
       "</style>\n",
       "<table border=\"1\" class=\"dataframe\">\n",
       "  <thead>\n",
       "    <tr style=\"text-align: right;\">\n",
       "      <th></th>\n",
       "      <th>date</th>\n",
       "      <th>Hours</th>\n",
       "      <th>value</th>\n",
       "    </tr>\n",
       "  </thead>\n",
       "  <tbody>\n",
       "    <tr>\n",
       "      <th>0</th>\n",
       "      <td>01/01/2019</td>\n",
       "      <td>00 - 01</td>\n",
       "      <td>10.07</td>\n",
       "    </tr>\n",
       "    <tr>\n",
       "      <th>1</th>\n",
       "      <td>01/01/2019</td>\n",
       "      <td>01 - 02</td>\n",
       "      <td>-4.08</td>\n",
       "    </tr>\n",
       "    <tr>\n",
       "      <th>2</th>\n",
       "      <td>01/01/2019</td>\n",
       "      <td>02 - 03</td>\n",
       "      <td>-9.91</td>\n",
       "    </tr>\n",
       "    <tr>\n",
       "      <th>3</th>\n",
       "      <td>01/01/2019</td>\n",
       "      <td>03 - 04</td>\n",
       "      <td>-7.41</td>\n",
       "    </tr>\n",
       "    <tr>\n",
       "      <th>4</th>\n",
       "      <td>01/01/2019</td>\n",
       "      <td>04 - 05</td>\n",
       "      <td>-12.55</td>\n",
       "    </tr>\n",
       "  </tbody>\n",
       "</table>\n",
       "</div>"
      ],
      "text/plain": [
       "         date    Hours  value\n",
       "0  01/01/2019  00 - 01  10.07\n",
       "1  01/01/2019  01 - 02  -4.08\n",
       "2  01/01/2019  02 - 03  -9.91\n",
       "3  01/01/2019  03 - 04  -7.41\n",
       "4  01/01/2019  04 - 05 -12.55"
      ]
     },
     "execution_count": 18,
     "metadata": {},
     "output_type": "execute_result"
    }
   ],
   "source": [
    "ROOT_PATH = 'Data_processed\\\\BZN-DE-LU\\\\'\n",
    "data_2019 = pd.read_excel(ROOT_PATH+'Day_ahead_2019_DE_LU.xlsx')\n",
    "data_2019.head()"
   ]
  },
  {
   "cell_type": "code",
   "execution_count": 19,
   "metadata": {},
   "outputs": [],
   "source": [
    "def format_data(prices_raw_df):\n",
    "    prices_raw_df['hour'] = prices_raw_df['Hours'].apply(lambda x: x[:2])\n",
    "    prices_raw_df = prices_raw_df.drop('Hours', axis=1)\n",
    "    prices_raw_df['time'] = pd.to_datetime(prices_raw_df['date']+prices_raw_df['hour'], format=\"%d/%m/%Y%H\")\n",
    "    prices_raw_df = prices_raw_df.set_index('time')\n",
    "    return prices_raw_df['value']"
   ]
  },
  {
   "cell_type": "code",
   "execution_count": 20,
   "metadata": {},
   "outputs": [],
   "source": [
    "prices_s = format_data(data_2019)"
   ]
  },
  {
   "cell_type": "code",
   "execution_count": 21,
   "metadata": {},
   "outputs": [
    {
     "data": {
      "text/plain": [
       "count    8760.000000\n",
       "mean       37.668148\n",
       "std        15.517244\n",
       "min       -90.010000\n",
       "25%        31.060000\n",
       "50%        38.065000\n",
       "75%        46.270000\n",
       "max       121.460000\n",
       "Name: value, dtype: float64"
      ]
     },
     "execution_count": 21,
     "metadata": {},
     "output_type": "execute_result"
    }
   ],
   "source": [
    "prices_s.describe()"
   ]
  },
  {
   "cell_type": "code",
   "execution_count": 22,
   "metadata": {},
   "outputs": [],
   "source": [
    "#prices_s = prices_s.diff(1).dropna()"
   ]
  },
  {
   "cell_type": "markdown",
   "metadata": {},
   "source": [
    "### ARIMA"
   ]
  },
  {
   "cell_type": "code",
   "execution_count": 138,
   "metadata": {},
   "outputs": [],
   "source": [
    "# ARIMA MODEL\n",
    "def arima_uni_var_train_valid_split(data, prop=0.2):\n",
    "    \"\"\"Slit train/test set\"\"\"\n",
    "    split_idx = int((1-prop)*len(data))\n",
    "    train_set = data[:split_idx]\n",
    "    test_set = data[split_idx:]\n",
    "    return train_set, test_set\n",
    "\n",
    "def arima_uni_var_fit(train_set, p=24, d=1, q=0, seasonal_order=None):\n",
    "    \"\"\"\n",
    "    Fits a univariate ARIMA model\n",
    "    Parameters\n",
    "    ----------\n",
    "    train_set : arr\n",
    "       Prices used to train ARIMA model.\n",
    "    p : int\n",
    "        The number of lag observations included in the model, commonly referred to as the lag order.\n",
    "    d : int\n",
    "        The number of times that the raw observations are differenced, commonly referred to as the degree of differencing.\n",
    "    q : int\n",
    "        The size of the moving average window.\n",
    "    Returns\n",
    "    -------\n",
    "    ARIMA : object\n",
    "        A fitted model to be used for predicting hourly electricity prices.\n",
    "    \"\"\"\n",
    "\n",
    "    return ARIMA(endog=train_set, order=(p, d, q), freq='H', seasonal_order=seasonal_order).fit()\n",
    "\n",
    "def arima_uni_var_predict(model, n_period_fcst):\n",
    "    \"\"\"\n",
    "    Fits a univariate ARIMA model\n",
    "    Parameters\n",
    "    ----------\n",
    "    model : object\n",
    "       A fitted ARIMA model used to forecast hourly prices.\n",
    "    n_period_fcst : int\n",
    "        Number of hours to forecast\n",
    "    Returns\n",
    "    --------\n",
    "    Prediction: arr\n",
    "        An array of forecasted electricity prices\n",
    "    \"\"\"\n",
    "\n",
    "    return model.forecast(steps=n_period_fcst)"
   ]
  },
  {
   "cell_type": "code",
   "execution_count": 121,
   "metadata": {},
   "outputs": [],
   "source": [
    "train_set, test_set = arima_uni_var_train_valid_split(prices_s, prop=0.2)"
   ]
  },
  {
   "cell_type": "code",
   "execution_count": 122,
   "metadata": {},
   "outputs": [
    {
     "name": "stderr",
     "output_type": "stream",
     "text": [
      "C:\\Users\\marti\\anaconda3\\envs\\rhizome\\lib\\site-packages\\statsmodels\\tsa\\base\\tsa_model.py:471: ValueWarning: No frequency information was provided, so inferred frequency H will be used.\n",
      "  self._init_dates(dates, freq)\n"
     ]
    }
   ],
   "source": [
    "model_arima = arima_uni_var_fit(train_set, p=24, d=1, q=0)"
   ]
  },
  {
   "cell_type": "code",
   "execution_count": 123,
   "metadata": {},
   "outputs": [],
   "source": [
    "n_forecast = 5\n",
    "pred = arima_uni_var_predict(model_arima, n_forecast)"
   ]
  },
  {
   "cell_type": "code",
   "execution_count": 124,
   "metadata": {},
   "outputs": [
    {
     "data": {
      "text/plain": [
       "time\n",
       "2019-10-20 00:00:00    27.01\n",
       "2019-10-20 01:00:00    26.90\n",
       "2019-10-20 02:00:00    26.51\n",
       "2019-10-20 03:00:00    26.30\n",
       "2019-10-20 04:00:00    27.03\n",
       "2019-10-20 05:00:00    29.94\n",
       "Name: value, dtype: float64"
      ]
     },
     "execution_count": 124,
     "metadata": {},
     "output_type": "execute_result"
    }
   ],
   "source": [
    "test_set[:6]"
   ]
  },
  {
   "cell_type": "code",
   "execution_count": 125,
   "metadata": {},
   "outputs": [
    {
     "data": {
      "text/plain": [
       "2019-10-20 00:00:00    24.303646\n",
       "2019-10-20 01:00:00    23.783609\n",
       "2019-10-20 02:00:00    24.516124\n",
       "2019-10-20 03:00:00    26.303150\n",
       "2019-10-20 04:00:00    28.754261\n",
       "Freq: H, Name: predicted_mean, dtype: float64"
      ]
     },
     "execution_count": 125,
     "metadata": {},
     "output_type": "execute_result"
    }
   ],
   "source": [
    "pred"
   ]
  },
  {
   "cell_type": "code",
   "execution_count": 126,
   "metadata": {},
   "outputs": [
    {
     "data": {
      "text/plain": [
       "<AxesSubplot:xlabel='time'>"
      ]
     },
     "execution_count": 126,
     "metadata": {},
     "output_type": "execute_result"
    },
    {
     "data": {
      "image/png": "[encoded data removed]",
      "text/plain": [
       "<Figure size 432x288 with 1 Axes>"
      ]
     },
     "metadata": {
      "needs_background": "light"
     },
     "output_type": "display_data"
    }
   ],
   "source": [
    "true = pd.concat([train_set.tail(10), test_set[:n_forecast]])\n",
    "true.plot()\n",
    "pred.plot()"
   ]
  },
  {
   "cell_type": "markdown",
   "metadata": {},
   "source": [
    "## Run multi on multi weeks - n hours forecast"
   ]
  },
  {
   "cell_type": "code",
   "execution_count": 73,
   "metadata": {},
   "outputs": [
    {
     "name": "stderr",
     "output_type": "stream",
     "text": [
      "C:\\Users\\marti\\anaconda3\\envs\\rhizome\\lib\\site-packages\\statsmodels\\tsa\\base\\tsa_model.py:471: ValueWarning: No frequency information was provided, so inferred frequency H will be used.\n",
      "  self._init_dates(dates, freq)\n",
      "C:\\Users\\marti\\anaconda3\\envs\\rhizome\\lib\\site-packages\\statsmodels\\tsa\\base\\tsa_model.py:471: ValueWarning: No frequency information was provided, so inferred frequency H will be used.\n",
      "  self._init_dates(dates, freq)\n",
      "C:\\Users\\marti\\anaconda3\\envs\\rhizome\\lib\\site-packages\\statsmodels\\tsa\\base\\tsa_model.py:471: ValueWarning: No frequency information was provided, so inferred frequency H will be used.\n",
      "  self._init_dates(dates, freq)\n",
      "C:\\Users\\marti\\anaconda3\\envs\\rhizome\\lib\\site-packages\\statsmodels\\tsa\\base\\tsa_model.py:471: ValueWarning: No frequency information was provided, so inferred frequency H will be used.\n",
      "  self._init_dates(dates, freq)\n",
      "C:\\Users\\marti\\anaconda3\\envs\\rhizome\\lib\\site-packages\\statsmodels\\tsa\\base\\tsa_model.py:471: ValueWarning: No frequency information was provided, so inferred frequency H will be used.\n",
      "  self._init_dates(dates, freq)\n",
      "C:\\Users\\marti\\anaconda3\\envs\\rhizome\\lib\\site-packages\\statsmodels\\tsa\\base\\tsa_model.py:471: ValueWarning: No frequency information was provided, so inferred frequency H will be used.\n",
      "  self._init_dates(dates, freq)\n",
      "C:\\Users\\marti\\anaconda3\\envs\\rhizome\\lib\\site-packages\\statsmodels\\tsa\\base\\tsa_model.py:471: ValueWarning: No frequency information was provided, so inferred frequency H will be used.\n",
      "  self._init_dates(dates, freq)\n"
     ]
    },
    {
     "name": "stdout",
     "output_type": "stream",
     "text": [
      "CPU times: total: 4min 37s\n",
      "Wall time: 34.8 s\n"
     ]
    }
   ],
   "source": [
    "%%time\n",
    "n_forecast = 24\n",
    "n_curr_window = int(0.2*len(prices_s))\n",
    "n_stop = 168\n",
    "pred_list = []\n",
    "for idx in range(n_stop):\n",
    "    if idx % n_forecast == 0:\n",
    "        model_arima = arima_uni_var_fit(prices_s[:n_curr_window], p=24, d=1, q=0)\n",
    "        pred_list.append(arima_uni_var_predict(model_arima, n_forecast))\n",
    "    n_curr_window +=1"
   ]
  },
  {
   "cell_type": "code",
   "execution_count": 74,
   "metadata": {},
   "outputs": [],
   "source": [
    "pred_s = pd.concat(pred_list, axis=0)"
   ]
  },
  {
   "cell_type": "markdown",
   "metadata": {},
   "source": [
    "#### Eval"
   ]
  },
  {
   "cell_type": "code",
   "execution_count": 75,
   "metadata": {},
   "outputs": [],
   "source": [
    "n_curr_window = int(0.2*len(prices_s))\n",
    "true_list = prices_s[n_curr_window:n_curr_window+n_stop]"
   ]
  },
  {
   "cell_type": "code",
   "execution_count": 76,
   "metadata": {},
   "outputs": [],
   "source": [
    "assert len(true_list) == len(pred_s)"
   ]
  },
  {
   "cell_type": "code",
   "execution_count": 77,
   "metadata": {},
   "outputs": [
    {
     "name": "stdout",
     "output_type": "stream",
     "text": [
      "MAE : 8.817211188184869 for 24 hours predicted over 1.0 weeks\n"
     ]
    }
   ],
   "source": [
    "print(f\"MAE : {mean_absolute_error(true_list, pred_s)} for {n_forecast} hours predicted over {n_stop/24/7} weeks\")"
   ]
  },
  {
   "cell_type": "code",
   "execution_count": 78,
   "metadata": {},
   "outputs": [
    {
     "data": {
      "text/plain": [
       "(168,)"
      ]
     },
     "execution_count": 78,
     "metadata": {},
     "output_type": "execute_result"
    }
   ],
   "source": [
    "pred_s.shape"
   ]
  },
  {
   "cell_type": "markdown",
   "metadata": {},
   "source": [
    "#### Plot"
   ]
  },
  {
   "cell_type": "code",
   "execution_count": 79,
   "metadata": {},
   "outputs": [
    {
     "data": {
      "text/plain": [
       "<matplotlib.legend.Legend at 0x1a71cdae1c0>"
      ]
     },
     "execution_count": 79,
     "metadata": {},
     "output_type": "execute_result"
    },
    {
     "data": {
      "image/png": "[encoded data removed]",
      "text/plain": [
       "<Figure size 432x288 with 1 Axes>"
      ]
     },
     "metadata": {
      "needs_background": "light"
     },
     "output_type": "display_data"
    }
   ],
   "source": [
    "end_first_training = int(0.2*len(prices_s))\n",
    "\n",
    "window_true = prices_s[end_first_training:end_first_training+n_stop]\n",
    "\n",
    "window_true.plot(label='true')\n",
    "pred_s.plot(label='prediction', marker='+')\n",
    "#plt.scatter(window_pred.index[::5], window_pred.iloc[::5], marker='+', color='tab:red', s=100)\n",
    "plt.legend()"
   ]
  },
  {
   "cell_type": "code",
   "execution_count": null,
   "metadata": {},
   "outputs": [],
   "source": []
  },
  {
   "cell_type": "markdown",
   "metadata": {},
   "source": [
    "* auto ARIMA\n",
    "* conf interval\n",
    "* less history data points"
   ]
  },
  {
   "cell_type": "markdown",
   "metadata": {},
   "source": [
    "### Auto arima"
   ]
  },
  {
   "cell_type": "code",
   "execution_count": 162,
   "metadata": {},
   "outputs": [
    {
     "data": {
      "text/plain": [
       "<AxesSubplot:xlabel='time'>"
      ]
     },
     "execution_count": 162,
     "metadata": {},
     "output_type": "execute_result"
    },
    {
     "data": {
      "image/png": "[encoded data removed]",
      "text/plain": [
       "<Figure size 432x288 with 1 Axes>"
      ]
     },
     "metadata": {
      "needs_background": "light"
     },
     "output_type": "display_data"
    }
   ],
   "source": [
    "prices_s.plot()"
   ]
  },
  {
   "cell_type": "markdown",
   "metadata": {},
   "source": [
    "### SARIMA"
   ]
  },
  {
   "cell_type": "code",
   "execution_count": 8,
   "metadata": {},
   "outputs": [],
   "source": [
    "import pmdarima as pm"
   ]
  },
  {
   "cell_type": "code",
   "execution_count": 9,
   "metadata": {},
   "outputs": [
    {
     "data": {
      "text/plain": [
       "<AxesSubplot:xlabel='time'>"
      ]
     },
     "execution_count": 9,
     "metadata": {},
     "output_type": "execute_result"
    },
    {
     "data": {
      "image/png": "[encoded data removed]",
      "text/plain": [
       "<Figure size 432x288 with 1 Axes>"
      ]
     },
     "metadata": {
      "needs_background": "light"
     },
     "output_type": "display_data"
    }
   ],
   "source": [
    "prices_s[:72].plot()"
   ]
  },
  {
   "cell_type": "markdown",
   "metadata": {},
   "source": [
    ">The auto-ARIMA process seeks to identify the most optimal parameters for an ARIMA model, settling on a single fitted ARIMA model.\n",
    "Auto-ARIMA works by conducting differencing tests (i.e., Kwiatkowski–Phillips–Schmidt–Shin, Augmented Dickey-Fuller or Phillips–Perron) to determine the order of differencing, d, and then fitting models within ranges of defined start_p, max_p, start_q, max_q ranges. If the seasonal optional is enabled, auto-ARIMA also seeks to identify the optimal P and Q hyper- parameters after conducting the Canova-Hansen to determine the optimal order of seasonal differencing, D"
   ]
  },
  {
   "cell_type": "code",
   "execution_count": 80,
   "metadata": {},
   "outputs": [
    {
     "data": {
      "text/plain": [
       "<AxesSubplot:xlabel='time'>"
      ]
     },
     "execution_count": 80,
     "metadata": {},
     "output_type": "execute_result"
    },
    {
     "data": {
      "image/png": "[encoded data removed]",
      "text/plain": [
       "<Figure size 432x288 with 1 Axes>"
      ]
     },
     "metadata": {
      "needs_background": "light"
     },
     "output_type": "display_data"
    }
   ],
   "source": [
    "import statsmodels.api as sm\n",
    "# one month\n",
    "f = sm.tsa.seasonal_decompose(prices_s)\n",
    "f.seasonal[:72].plot()"
   ]
  },
  {
   "cell_type": "markdown",
   "metadata": {},
   "source": [
    "### Remove seasonal component"
   ]
  },
  {
   "cell_type": "code",
   "execution_count": 92,
   "metadata": {},
   "outputs": [],
   "source": [
    "# create seasonally adjusted\n",
    "prices_s_no_sea = prices_s - f.seasonal"
   ]
  },
  {
   "cell_type": "markdown",
   "metadata": {},
   "source": [
    "* Remove trend"
   ]
  },
  {
   "cell_type": "code",
   "execution_count": 111,
   "metadata": {},
   "outputs": [
    {
     "name": "stderr",
     "output_type": "stream",
     "text": [
      "C:\\Users\\marti\\anaconda3\\envs\\rhizome\\lib\\site-packages\\statsmodels\\tsa\\base\\tsa_model.py:471: ValueWarning: No frequency information was provided, so inferred frequency H will be used.\n",
      "  self._init_dates(dates, freq)\n",
      "C:\\Users\\marti\\anaconda3\\envs\\rhizome\\lib\\site-packages\\statsmodels\\tsa\\base\\tsa_model.py:471: ValueWarning: No frequency information was provided, so inferred frequency H will be used.\n",
      "  self._init_dates(dates, freq)\n",
      "C:\\Users\\marti\\anaconda3\\envs\\rhizome\\lib\\site-packages\\statsmodels\\tsa\\base\\tsa_model.py:471: ValueWarning: No frequency information was provided, so inferred frequency H will be used.\n",
      "  self._init_dates(dates, freq)\n",
      "C:\\Users\\marti\\anaconda3\\envs\\rhizome\\lib\\site-packages\\statsmodels\\tsa\\base\\tsa_model.py:471: ValueWarning: No frequency information was provided, so inferred frequency H will be used.\n",
      "  self._init_dates(dates, freq)\n",
      "C:\\Users\\marti\\anaconda3\\envs\\rhizome\\lib\\site-packages\\statsmodels\\tsa\\base\\tsa_model.py:471: ValueWarning: No frequency information was provided, so inferred frequency H will be used.\n",
      "  self._init_dates(dates, freq)\n",
      "C:\\Users\\marti\\anaconda3\\envs\\rhizome\\lib\\site-packages\\statsmodels\\tsa\\base\\tsa_model.py:471: ValueWarning: No frequency information was provided, so inferred frequency H will be used.\n",
      "  self._init_dates(dates, freq)\n",
      "C:\\Users\\marti\\anaconda3\\envs\\rhizome\\lib\\site-packages\\statsmodels\\tsa\\base\\tsa_model.py:471: ValueWarning: No frequency information was provided, so inferred frequency H will be used.\n",
      "  self._init_dates(dates, freq)\n"
     ]
    },
    {
     "name": "stdout",
     "output_type": "stream",
     "text": [
      "CPU times: total: 2min 51s\n",
      "Wall time: 21.5 s\n"
     ]
    }
   ],
   "source": [
    "%%time\n",
    "n_forecast = 24\n",
    "n_curr_window = int(0.2*len(prices_s_no_sea))\n",
    "n_stop = 168\n",
    "pred_list = []\n",
    "for idx in range(n_stop):\n",
    "    if idx % n_forecast == 0:\n",
    "        model_arima = arima_uni_var_fit(prices_s_no_sea[:n_curr_window], p=24, d=1, q=0)\n",
    "        pred_list.append(arima_uni_var_predict(model_arima, n_forecast))\n",
    "    n_curr_window +=1"
   ]
  },
  {
   "cell_type": "code",
   "execution_count": 112,
   "metadata": {},
   "outputs": [],
   "source": [
    "pred_s = pd.concat(pred_list, axis=0)\n",
    "\n",
    "n_curr_window = int(0.2*len(prices_s_no_sea))\n",
    "true_list = prices_s[n_curr_window:n_curr_window+n_stop]\n",
    "\n",
    "pred_s = pred_s + f.seasonal[end_first_training:end_first_training+n_stop]\n",
    "\n",
    "mean_absolute_error(y_pred=pred_s, y_true=true_list)"
   ]
  },
  {
   "cell_type": "code",
   "execution_count": 116,
   "metadata": {},
   "outputs": [
    {
     "data": {
      "text/plain": [
       "<matplotlib.legend.Legend at 0x1a71a748fa0>"
      ]
     },
     "execution_count": 116,
     "metadata": {},
     "output_type": "execute_result"
    },
    {
     "data": {
      "image/png": "[encoded data removed]",
      "text/plain": [
       "<Figure size 432x288 with 1 Axes>"
      ]
     },
     "metadata": {
      "needs_background": "light"
     },
     "output_type": "display_data"
    }
   ],
   "source": [
    "end_first_training = int(0.2*len(prices_s_no_sea))\n",
    "\n",
    "window_true = prices_s[end_first_training:end_first_training+n_stop]\n",
    "window_true.plot(label='true')\n",
    "pred_s.plot(label='prediction', marker='+')\n",
    "plt.legend()"
   ]
  },
  {
   "cell_type": "code",
   "execution_count": 141,
   "metadata": {},
   "outputs": [],
   "source": [
    "train_set, test_set = arima_uni_var_train_valid_split(prices_s_no_sea, prop=0.2)"
   ]
  },
  {
   "cell_type": "code",
   "execution_count": 142,
   "metadata": {},
   "outputs": [
    {
     "data": {
      "text/plain": [
       "(7008,)"
      ]
     },
     "execution_count": 142,
     "metadata": {},
     "output_type": "execute_result"
    }
   ],
   "source": [
    "train_set.shape"
   ]
  },
  {
   "cell_type": "code",
   "execution_count": null,
   "metadata": {},
   "outputs": [],
   "source": []
  },
  {
   "cell_type": "markdown",
   "metadata": {},
   "source": [
    "https://alkaline-ml.com/pmdarima/modules/generated/pmdarima.arima.auto_arima.html"
   ]
  },
  {
   "cell_type": "code",
   "execution_count": 143,
   "metadata": {},
   "outputs": [
    {
     "name": "stdout",
     "output_type": "stream",
     "text": [
      "CPU times: total: 1h 3min 35s\n",
      "Wall time: 7min 58s\n"
     ]
    }
   ],
   "source": [
    "%%time\n",
    "start = len(train_set)-(7*24*10)\n",
    "end = len(train_set)\n",
    "model = pm.auto_arima(train_set[start:end], seasonal=True, m=24)"
   ]
  },
  {
   "cell_type": "code",
   "execution_count": 144,
   "metadata": {},
   "outputs": [
    {
     "data": {
      "text/plain": [
       "ARIMA(order=(5, 0, 0), scoring_args={}, seasonal_order=(2, 0, 0, 24),\n",
       "      suppress_warnings=True)"
      ]
     },
     "execution_count": 144,
     "metadata": {},
     "output_type": "execute_result"
    }
   ],
   "source": [
    "model"
   ]
  },
  {
   "cell_type": "code",
   "execution_count": 145,
   "metadata": {},
   "outputs": [
    {
     "data": {
      "text/plain": [
       "1968"
      ]
     },
     "execution_count": 145,
     "metadata": {},
     "output_type": "execute_result"
    }
   ],
   "source": [
    "len(train_set)-(7*24*30)"
   ]
  },
  {
   "cell_type": "code",
   "execution_count": 139,
   "metadata": {},
   "outputs": [
    {
     "name": "stderr",
     "output_type": "stream",
     "text": [
      "C:\\Users\\marti\\anaconda3\\envs\\rhizome\\lib\\site-packages\\statsmodels\\tsa\\base\\tsa_model.py:471: ValueWarning: No frequency information was provided, so inferred frequency H will be used.\n",
      "  self._init_dates(dates, freq)\n",
      "C:\\Users\\marti\\anaconda3\\envs\\rhizome\\lib\\site-packages\\statsmodels\\tsa\\base\\tsa_model.py:471: ValueWarning: No frequency information was provided, so inferred frequency H will be used.\n",
      "  self._init_dates(dates, freq)\n",
      "C:\\Users\\marti\\anaconda3\\envs\\rhizome\\lib\\site-packages\\statsmodels\\tsa\\base\\tsa_model.py:471: ValueWarning: No frequency information was provided, so inferred frequency H will be used.\n",
      "  self._init_dates(dates, freq)\n",
      "C:\\Users\\marti\\anaconda3\\envs\\rhizome\\lib\\site-packages\\statsmodels\\tsa\\base\\tsa_model.py:471: ValueWarning: No frequency information was provided, so inferred frequency H will be used.\n",
      "  self._init_dates(dates, freq)\n",
      "C:\\Users\\marti\\anaconda3\\envs\\rhizome\\lib\\site-packages\\statsmodels\\tsa\\base\\tsa_model.py:471: ValueWarning: No frequency information was provided, so inferred frequency H will be used.\n",
      "  self._init_dates(dates, freq)\n",
      "C:\\Users\\marti\\anaconda3\\envs\\rhizome\\lib\\site-packages\\statsmodels\\tsa\\base\\tsa_model.py:471: ValueWarning: No frequency information was provided, so inferred frequency H will be used.\n",
      "  self._init_dates(dates, freq)\n",
      "C:\\Users\\marti\\anaconda3\\envs\\rhizome\\lib\\site-packages\\statsmodels\\tsa\\base\\tsa_model.py:471: ValueWarning: No frequency information was provided, so inferred frequency H will be used.\n",
      "  self._init_dates(dates, freq)\n"
     ]
    },
    {
     "name": "stdout",
     "output_type": "stream",
     "text": [
      "CPU times: total: 9min 23s\n",
      "Wall time: 1min 10s\n"
     ]
    }
   ],
   "source": [
    "%%time\n",
    "n_forecast = 24\n",
    "n_curr_window = int(0.2*len(prices_s_no_sea))\n",
    "n_stop = 168\n",
    "pred_list = []\n",
    "for idx in range(n_stop):\n",
    "    if idx % n_forecast == 0:\n",
    "        model_arima = arima_uni_var_fit(prices_s_no_sea[:n_curr_window], p=2, d=0, q=0, seasonal_order=(2, 0, 0, 24))\n",
    "        pred_list.append(arima_uni_var_predict(model_arima, n_forecast))\n",
    "    n_curr_window +=1 "
   ]
  },
  {
   "cell_type": "code",
   "execution_count": 140,
   "metadata": {},
   "outputs": [
    {
     "data": {
      "text/plain": [
       "8.343218784422055"
      ]
     },
     "execution_count": 140,
     "metadata": {},
     "output_type": "execute_result"
    }
   ],
   "source": [
    "pred_s = pd.concat(pred_list, axis=0)\n",
    "\n",
    "n_curr_window = int(0.2*len(prices_s_no_sea))\n",
    "true_list = prices_s[n_curr_window:n_curr_window+n_stop]\n",
    "\n",
    "pred_s = pred_s + f.seasonal[end_first_training:end_first_training+n_stop]\n",
    "\n",
    "mean_absolute_error(y_pred=pred_s, y_true=true_list)"
   ]
  },
  {
   "cell_type": "markdown",
   "metadata": {},
   "source": [
    "### Baseline"
   ]
  },
  {
   "cell_type": "code",
   "execution_count": 156,
   "metadata": {},
   "outputs": [],
   "source": [
    "test_set = prices_s.copy()\n",
    "benchmark_results = pd.DataFrame(index=test_set.index)\n",
    "benchmark_results['last_23h_hour'] = test_set.shift(23)\n",
    "benchmark_results['last_day_hour'] = test_set.shift(24)\n",
    "benchmark_results['last_week_day_hour'] = test_set.shift(24*7)\n",
    "benchmark_results['last_5_days_kour_average'] = pd.concat([test_set.shift(24 * w) for w in range(1, 5)], axis=1).mean(axis=1)"
   ]
  },
  {
   "cell_type": "code",
   "execution_count": 157,
   "metadata": {},
   "outputs": [],
   "source": [
    "benchmark_results = benchmark_results.iloc[n_curr_window:n_curr_window+n_stop]"
   ]
  },
  {
   "cell_type": "code",
   "execution_count": 158,
   "metadata": {},
   "outputs": [
    {
     "name": "stdout",
     "output_type": "stream",
     "text": [
      "MAE of last_23h_hour benchmark model:  13.302559523809524\n",
      "MAE of last_day_hour benchmark model:  12.810595238095237\n",
      "MAE of last_week_day_hour benchmark model:  13.90154761904762\n",
      "MAE of last_5_days_kour_average benchmark model:  16.063020833333333\n"
     ]
    }
   ],
   "source": [
    "for col in benchmark_results.columns:\n",
    "    #pred = benchmark_results[col].as_matrix()\n",
    "    print('MAE of {} benchmark model: '.format(col), mean_absolute_error(y_pred=benchmark_results[col], y_true=true_list))"
   ]
  },
  {
   "cell_type": "markdown",
   "metadata": {},
   "source": [
    "### Comparaison with LSTM"
   ]
  },
  {
   "cell_type": "code",
   "execution_count": 159,
   "metadata": {},
   "outputs": [],
   "source": [
    "from keras.models import Model, load_model\n",
    "from keras.layers import Input, Add\n",
    "from keras.layers.core import Dense, Activation, Dropout\n",
    "from keras.layers.recurrent import LSTM\n",
    "from keras.layers.convolutional import Conv1D\n",
    "from keras.callbacks import ModelCheckpoint\n",
    "from keras.regularizers import l1_l2\n",
    "from keras import optimizers"
   ]
  },
  {
   "cell_type": "code",
   "execution_count": 161,
   "metadata": {},
   "outputs": [],
   "source": [
    "model_lstm = keras.models.load_model('lstm_poc_v0')"
   ]
  },
  {
   "cell_type": "markdown",
   "metadata": {},
   "source": [
    "* need to scale\n",
    "* need to lag"
   ]
  },
  {
   "cell_type": "code",
   "execution_count": null,
   "metadata": {},
   "outputs": [],
   "source": [
    "%%time\n",
    "n_forecast = 24\n",
    "n_curr_window = int(0.2*len(prices_s_no_sea))\n",
    "n_stop = 168\n",
    "pred_list = []\n",
    "for idx in range(n_stop):\n",
    "    if idx % n_forecast == 0:\n",
    "        model_arima = arima_uni_var_fit(prices_s_no_sea[:n_curr_window], p=2, d=0, q=0, seasonal_order=(2, 0, 0, 24))\n",
    "        pred_list.append(arima_uni_var_predict(model_arima, n_forecast))\n",
    "    n_curr_window +=1 "
   ]
  }
 ],
 "metadata": {
  "kernelspec": {
   "display_name": "Python 3 (ipykernel)",
   "language": "python",
   "name": "python3"
  },
  "language_info": {
   "codemirror_mode": {
    "name": "ipython",
    "version": 3
   },
   "file_extension": ".py",
   "mimetype": "text/x-python",
   "name": "python",
   "nbconvert_exporter": "python",
   "pygments_lexer": "ipython3",
   "version": "3.9.12"
  }
 },
 "nbformat": 4,
 "nbformat_minor": 4
}
