{
 "cells": [
  {
   "cell_type": "code",
   "execution_count": 1,
   "id": "f0bfac36",
   "metadata": {},
   "outputs": [],
   "source": [
    "import numpy as np\n",
    "import pandas as pd\n",
    "import matplotlib.pyplot as plt\n",
    "from sklearn.metrics import mean_squared_error\n",
    "from statsmodels.tsa.arima.model import ARIMA\n",
    "from sklearn.metrics import mean_absolute_error\n",
    "\n",
    "\n",
    "import tensorflow as tf\n",
    "keras = tf.keras\n",
    "from datetime import datetime"
   ]
  },
  {
   "cell_type": "code",
   "execution_count": 2,
   "id": "cf47655d",
   "metadata": {},
   "outputs": [],
   "source": [
    "from rhizome_trading.data.load import DataLoader"
   ]
  },
  {
   "cell_type": "code",
   "execution_count": 4,
   "id": "b9d502d2",
   "metadata": {},
   "outputs": [],
   "source": [
    "from abc import ABC, abstractmethod"
   ]
  },
  {
   "cell_type": "markdown",
   "id": "98fa507d",
   "metadata": {},
   "source": [
    "## Factory"
   ]
  },
  {
   "cell_type": "code",
   "execution_count": 7,
   "id": "34f11def",
   "metadata": {},
   "outputs": [],
   "source": [
    "class ForecastFactory:\n",
    "    \n",
    "    def get_forecast(self, name):\n",
    "        pass"
   ]
  },
  {
   "cell_type": "markdown",
   "id": "7e30053c",
   "metadata": {},
   "source": [
    "* abstract factory"
   ]
  },
  {
   "cell_type": "code",
   "execution_count": 9,
   "id": "084d46d1",
   "metadata": {},
   "outputs": [],
   "source": [
    "class TrainTestSetMaker:\n",
    "    pass"
   ]
  },
  {
   "cell_type": "code",
   "execution_count": 8,
   "id": "a77e4073",
   "metadata": {},
   "outputs": [],
   "source": [
    "class GenericForecast(ABC):\n",
    "    def __init__(self, \n",
    "                 train_set,\n",
    "                 test_set,\n",
    "                 start_date, \n",
    "                 end_date):\n",
    "        self.df = df\n",
    "        self.start_date = start_date\n",
    "        self.end_date = end_date\n",
    "        self.train_set = train_set\n",
    "        self.test_set = test_set\n",
    "    @abstractmethod\n",
    "    def forecast(self):\n",
    "        pass\n",
    "    @abstractmethod\n",
    "    def fit_model(self, **params):\n",
    "        pass\n",
    "    @abstractmethod\n",
    "    def train_model(self, **params):\n",
    "        pass"
   ]
  },
  {
   "cell_type": "code",
   "execution_count": null,
   "id": "2a7c8d71",
   "metadata": {},
   "outputs": [],
   "source": [
    "class ARIMA(GenericForecast):\n",
    "    def __init__(self,\n",
    "                 train_set,\n",
    "                 test_set,\n",
    "                 start_date, \n",
    "                 end_date):\n",
    "        super().__init__(df, start_date, end_date)\n",
    "        \n",
    "    def forecast(self, n_forecast):\n",
    "        return self.model.forecast(steps=n_forecast)\n",
    "    \n",
    "    def fit_model(self):\n",
    "        return ARIMA(endog=self.train_set, order=(p, d, q), freq='H', seasonal_order=seasonal_order).fit()"
   ]
  },
  {
   "cell_type": "markdown",
   "id": "bb324102",
   "metadata": {},
   "source": [
    "## Utils"
   ]
  },
  {
   "cell_type": "code",
   "execution_count": null,
   "id": "1c1122f2",
   "metadata": {},
   "outputs": [],
   "source": [
    "class Scaler:\n",
    "    def __init__(self):\n",
    "        pass\n",
    "    "
   ]
  },
  {
   "cell_type": "code",
   "execution_count": null,
   "id": "e5c09373",
   "metadata": {},
   "outputs": [],
   "source": [
    "class ProcessTimeSeries:\n",
    "    def __init__(self):\n",
    "        pass\n",
    "    def differential_signal(self, df):\n",
    "        pass"
   ]
  }
 ],
 "metadata": {
  "kernelspec": {
   "display_name": "Python 3 (ipykernel)",
   "language": "python",
   "name": "python3"
  },
  "language_info": {
   "codemirror_mode": {
    "name": "ipython",
    "version": 3
   },
   "file_extension": ".py",
   "mimetype": "text/x-python",
   "name": "python",
   "nbconvert_exporter": "python",
   "pygments_lexer": "ipython3",
   "version": "3.9.12"
  }
 },
 "nbformat": 4,
 "nbformat_minor": 5
}
